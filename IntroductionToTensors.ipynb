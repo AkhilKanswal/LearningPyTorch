{
 "cells": [
  {
   "cell_type": "code",
   "execution_count": 1,
   "id": "777e5156",
   "metadata": {},
   "outputs": [
    {
     "name": "stdout",
     "output_type": "stream",
     "text": [
      "2.7.0+cpu\n"
     ]
    }
   ],
   "source": [
    "import torch\n",
    "print(torch.__version__)"
   ]
  },
  {
   "cell_type": "code",
   "execution_count": 2,
   "id": "4ddc15f6",
   "metadata": {},
   "outputs": [
    {
     "data": {
      "text/plain": [
       "7"
      ]
     },
     "execution_count": 2,
     "metadata": {},
     "output_type": "execute_result"
    }
   ],
   "source": [
    "#scalar \n",
    "\n",
    "scalar=torch.tensor(7)\n",
    "scalar.item()\n",
    "# item function converts the type to primitve"
   ]
  },
  {
   "cell_type": "code",
   "execution_count": 3,
   "id": "09d5d120",
   "metadata": {},
   "outputs": [
    {
     "data": {
      "text/plain": [
       "torch.Size([2])"
      ]
     },
     "execution_count": 3,
     "metadata": {},
     "output_type": "execute_result"
    }
   ],
   "source": [
    "# vector\n",
    "vector=torch.tensor([7,7])\n",
    "vector.shape #size of a vector"
   ]
  },
  {
   "cell_type": "code",
   "execution_count": 4,
   "id": "263fa6ca",
   "metadata": {},
   "outputs": [
    {
     "data": {
      "text/plain": [
       "tensor([[0.8560, 0.2368, 0.9936, 0.5690],\n",
       "        [0.4794, 0.1674, 0.6155, 0.1408],\n",
       "        [0.8964, 0.4214, 0.9627, 0.9801]])"
      ]
     },
     "execution_count": 4,
     "metadata": {},
     "output_type": "execute_result"
    }
   ],
   "source": [
    "# creating a random tensor\n",
    "random_tensor=torch.rand(3,4)\n",
    "random_tensor"
   ]
  },
  {
   "cell_type": "code",
   "execution_count": 6,
   "id": "361daff5",
   "metadata": {},
   "outputs": [
    {
     "data": {
      "text/plain": [
       "torch.Size([224, 224, 3])"
      ]
     },
     "execution_count": 6,
     "metadata": {},
     "output_type": "execute_result"
    }
   ],
   "source": [
    "#crearing a random tensor with similar shape to an image tensor\n",
    "random_image_size_tensor=torch.rand(size=(224,224,3))\n",
    "random_image_size_tensor.shape\n"
   ]
  },
  {
   "cell_type": "markdown",
   "id": "db85d71e",
   "metadata": {},
   "source": [
    "## Tensor Operations"
   ]
  },
  {
   "cell_type": "code",
   "execution_count": null,
   "id": "3163b090",
   "metadata": {},
   "outputs": [
    {
     "data": {
      "text/plain": [
       "tensor([11, 12, 13])"
      ]
     },
     "execution_count": 9,
     "metadata": {},
     "output_type": "execute_result"
    }
   ],
   "source": [
    "#creating a tensor\n",
    "tensor= torch.tensor([1,2,3])\n",
    "tensor+=10\n",
    "\n",
    "tensor\n",
    "\n",
    "##continue with 2:15:45"
   ]
  },
  {
   "cell_type": "markdown",
   "id": "def24e33",
   "metadata": {},
   "source": []
  }
 ],
 "metadata": {
  "kernelspec": {
   "display_name": "Python 3",
   "language": "python",
   "name": "python3"
  },
  "language_info": {
   "codemirror_mode": {
    "name": "ipython",
    "version": 3
   },
   "file_extension": ".py",
   "mimetype": "text/x-python",
   "name": "python",
   "nbconvert_exporter": "python",
   "pygments_lexer": "ipython3",
   "version": "3.11.5"
  }
 },
 "nbformat": 4,
 "nbformat_minor": 5
}
