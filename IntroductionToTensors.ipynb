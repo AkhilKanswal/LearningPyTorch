{
 "cells": [
  {
   "cell_type": "code",
   "execution_count": 1,
   "id": "777e5156",
   "metadata": {},
   "outputs": [
    {
     "name": "stdout",
     "output_type": "stream",
     "text": [
      "2.7.0+cpu\n"
     ]
    }
   ],
   "source": [
    "import torch\n",
    "print(torch.__version__)"
   ]
  },
  {
   "cell_type": "code",
   "execution_count": 2,
   "id": "4ddc15f6",
   "metadata": {},
   "outputs": [
    {
     "data": {
      "text/plain": [
       "7"
      ]
     },
     "execution_count": 2,
     "metadata": {},
     "output_type": "execute_result"
    }
   ],
   "source": [
    "#scalar \n",
    "\n",
    "scalar=torch.tensor(7)\n",
    "scalar.item()\n",
    "# item function converts the type to primitve"
   ]
  },
  {
   "cell_type": "code",
   "execution_count": 3,
   "id": "09d5d120",
   "metadata": {},
   "outputs": [
    {
     "data": {
      "text/plain": [
       "torch.Size([2])"
      ]
     },
     "execution_count": 3,
     "metadata": {},
     "output_type": "execute_result"
    }
   ],
   "source": [
    "# vector\n",
    "vector=torch.tensor([7,7])\n",
    "vector.shape #size of a vector"
   ]
  },
  {
   "cell_type": "code",
   "execution_count": 4,
   "id": "263fa6ca",
   "metadata": {},
   "outputs": [
    {
     "data": {
      "text/plain": [
       "tensor([[0.9588, 0.3513, 0.0967, 0.7247],\n",
       "        [0.7731, 0.1668, 0.3430, 0.6244],\n",
       "        [0.1292, 0.1762, 0.5402, 0.4851]])"
      ]
     },
     "execution_count": 4,
     "metadata": {},
     "output_type": "execute_result"
    }
   ],
   "source": [
    "# creating a random tensor\n",
    "random_tensor=torch.rand(3,4)\n",
    "random_tensor"
   ]
  },
  {
   "cell_type": "code",
   "execution_count": 5,
   "id": "361daff5",
   "metadata": {},
   "outputs": [
    {
     "data": {
      "text/plain": [
       "torch.Size([224, 224, 3])"
      ]
     },
     "execution_count": 5,
     "metadata": {},
     "output_type": "execute_result"
    }
   ],
   "source": [
    "#crearing a random tensor with similar shape to an image tensor\n",
    "random_image_size_tensor=torch.rand(size=(224,224,3))\n",
    "random_image_size_tensor.shape\n"
   ]
  },
  {
   "cell_type": "markdown",
   "id": "db85d71e",
   "metadata": {},
   "source": [
    "## Tensor Operations"
   ]
  },
  {
   "cell_type": "code",
   "execution_count": 6,
   "id": "3163b090",
   "metadata": {},
   "outputs": [
    {
     "data": {
      "text/plain": [
       "tensor([11, 12, 13])"
      ]
     },
     "execution_count": 6,
     "metadata": {},
     "output_type": "execute_result"
    }
   ],
   "source": [
    "#creating a tensor\n",
    "tensor= torch.tensor([1,2,3])\n",
    "tensor+10\n"
   ]
  },
  {
   "cell_type": "markdown",
   "id": "def24e33",
   "metadata": {},
   "source": [
    "### Matrix Multiplication"
   ]
  },
  {
   "cell_type": "code",
   "execution_count": 7,
   "id": "23e37bea",
   "metadata": {},
   "outputs": [
    {
     "name": "stdout",
     "output_type": "stream",
     "text": [
      "tensor([1, 2, 3]) * tensor([1, 2, 3])\n",
      "Equals tensor([1, 4, 9])\n"
     ]
    }
   ],
   "source": [
    "print(tensor ,\"*\", tensor)\n",
    "print(f\"Equals {tensor*tensor}\")"
   ]
  },
  {
   "cell_type": "code",
   "execution_count": 8,
   "id": "e0fa0676",
   "metadata": {},
   "outputs": [
    {
     "name": "stdout",
     "output_type": "stream",
     "text": [
      "Matrix multiplication of tensor : tensor([1, 2, 3])\n",
      "tensor(14)\n"
     ]
    }
   ],
   "source": [
    "\n",
    "print(f\"Matrix multiplication of tensor : {tensor}\")\n",
    "print(torch.matmul(tensor,tensor))"
   ]
  },
  {
   "cell_type": "code",
   "execution_count": 9,
   "id": "6554294c",
   "metadata": {},
   "outputs": [],
   "source": [
    "#dealing with shape errors\n",
    "#intensional error\n",
    "tensor_A=torch.tensor([[1,2],\n",
    "                       [3,4],\n",
    "                       [5,6]])\n",
    "\n",
    "tensor_B=torch.tensor([[7,10],\n",
    "                       [8,11],\n",
    "                       [9,12]])\n",
    "\n",
    "# torch.matmul(tensor_A,tensor_B)"
   ]
  },
  {
   "cell_type": "code",
   "execution_count": 10,
   "id": "a2f790f6",
   "metadata": {},
   "outputs": [
    {
     "data": {
      "text/plain": [
       "tensor([[ 27,  30,  33],\n",
       "        [ 61,  68,  75],\n",
       "        [ 95, 106, 117]])"
      ]
     },
     "execution_count": 10,
     "metadata": {},
     "output_type": "execute_result"
    }
   ],
   "source": [
    "tensor_A=torch.tensor([[1,2],\n",
    "                       [3,4],\n",
    "                       [5,6]])\n",
    "\n",
    "tensor_B=torch.tensor([[7,10],\n",
    "                       [8,11],\n",
    "                       [9,12]])\n",
    "\n",
    "torch.matmul(tensor_A,tensor_B.T)\n",
    "# This operation will work when B is transposed"
   ]
  },
  {
   "cell_type": "code",
   "execution_count": 11,
   "id": "eb82a028",
   "metadata": {},
   "outputs": [
    {
     "name": "stdout",
     "output_type": "stream",
     "text": [
      "Original Shapes : tensor_A = torch.Size([3, 2]) , tensor_B = torch.Size([3, 2])\n",
      "New Shapes : tensor_A = torch.Size([3, 2]) (same as above), tensor_B.T = torch.Size([2, 3])\n",
      "Multipying : torch.Size([3, 2]) @ torch.Size([2, 3])\n",
      "\n",
      "Output:\n",
      "tensor([[ 27,  30,  33],\n",
      "        [ 61,  68,  75],\n",
      "        [ 95, 106, 117]])\n",
      "\n",
      "Output shape: torch.Size([3, 3])\n"
     ]
    }
   ],
   "source": [
    "print(f\"Original Shapes : tensor_A = {tensor_A.shape} , tensor_B = {tensor_B.shape}\")\n",
    "print(f\"New Shapes : tensor_A = {tensor_A.shape} (same as above), tensor_B.T = {tensor_B.T.shape}\")\n",
    "print(f\"Multipying : {tensor_A.shape} @ {tensor_B.T.shape}\")\n",
    "print(f\"\\nOutput:\")\n",
    "print(f\"{torch.matmul(tensor_A,tensor_B.T)}\")\n",
    "print(f\"\\nOutput shape: {torch.matmul(tensor_A,tensor_B.T).shape}\")"
   ]
  },
  {
   "cell_type": "markdown",
   "id": "75b68626",
   "metadata": {},
   "source": [
    "### Tensor aggeration"
   ]
  },
  {
   "cell_type": "code",
   "execution_count": 12,
   "id": "5bc99ecb",
   "metadata": {},
   "outputs": [
    {
     "data": {
      "text/plain": [
       "(tensor([ 0, 10, 20, 30, 40, 50, 60, 70, 80, 90]), torch.int64)"
      ]
     },
     "execution_count": 12,
     "metadata": {},
     "output_type": "execute_result"
    }
   ],
   "source": [
    "# defining a tensor\n",
    "x=torch.arange(0,100,10)\n",
    "x, x.dtype"
   ]
  },
  {
   "cell_type": "code",
   "execution_count": 13,
   "id": "c9851f20",
   "metadata": {},
   "outputs": [
    {
     "data": {
      "text/plain": [
       "(tensor(90), tensor(90))"
      ]
     },
     "execution_count": 13,
     "metadata": {},
     "output_type": "execute_result"
    }
   ],
   "source": [
    "# finding min value\n",
    "x.max(), torch.max(x)"
   ]
  },
  {
   "cell_type": "code",
   "execution_count": 14,
   "id": "f75550ce",
   "metadata": {},
   "outputs": [
    {
     "data": {
      "text/plain": [
       "(tensor(0), tensor(0))"
      ]
     },
     "execution_count": 14,
     "metadata": {},
     "output_type": "execute_result"
    }
   ],
   "source": [
    "# finding min value\n",
    "x.min(), torch.min(x)"
   ]
  },
  {
   "cell_type": "code",
   "execution_count": 15,
   "id": "0ba7d2fa",
   "metadata": {},
   "outputs": [],
   "source": [
    "#finding mean \n",
    "## Error left intensionally\n",
    "# x.mean()"
   ]
  },
  {
   "cell_type": "code",
   "execution_count": 16,
   "id": "3c3ccd92",
   "metadata": {},
   "outputs": [
    {
     "data": {
      "text/plain": [
       "(tensor(45.), tensor(45.))"
      ]
     },
     "execution_count": 16,
     "metadata": {},
     "output_type": "execute_result"
    }
   ],
   "source": [
    "#we can convert the data type of tensor using x.type(torch.float32)\n",
    "torch.mean(x.type(torch.float32)), x.type(torch.float32).mean()"
   ]
  },
  {
   "cell_type": "code",
   "execution_count": 17,
   "id": "f018204a",
   "metadata": {},
   "outputs": [
    {
     "data": {
      "text/plain": [
       "tensor(0)"
      ]
     },
     "execution_count": 17,
     "metadata": {},
     "output_type": "execute_result"
    }
   ],
   "source": [
    "# Finding the positional min of a tensor and return the index\n",
    "x.argmin()"
   ]
  },
  {
   "cell_type": "code",
   "execution_count": 18,
   "id": "0886cbb5",
   "metadata": {},
   "outputs": [
    {
     "data": {
      "text/plain": [
       "tensor(9)"
      ]
     },
     "execution_count": 18,
     "metadata": {},
     "output_type": "execute_result"
    }
   ],
   "source": [
    "# Finding the positional max of a tensor and return the index\n",
    "x.argmax()"
   ]
  },
  {
   "cell_type": "code",
   "execution_count": 19,
   "id": "8316ca61",
   "metadata": {},
   "outputs": [
    {
     "data": {
      "text/plain": [
       "(tensor([[ 0],\n",
       "         [10],\n",
       "         [20],\n",
       "         [30],\n",
       "         [40],\n",
       "         [50],\n",
       "         [60],\n",
       "         [70],\n",
       "         [80],\n",
       "         [90]]),\n",
       " torch.Size([10, 1]))"
      ]
     },
     "execution_count": 19,
     "metadata": {},
     "output_type": "execute_result"
    }
   ],
   "source": [
    "#Add an extra dimension\n",
    "#reshaping\n",
    "x_reshaped=x.reshape(10,1)\n",
    "x_reshaped, x_reshaped.shape"
   ]
  },
  {
   "cell_type": "code",
   "execution_count": 20,
   "id": "33a8abe9",
   "metadata": {},
   "outputs": [
    {
     "data": {
      "text/plain": [
       "(tensor([[ 0, 10],\n",
       "         [20, 30],\n",
       "         [40, 50],\n",
       "         [60, 70],\n",
       "         [80, 90]]),\n",
       " torch.Size([5, 2]))"
      ]
     },
     "execution_count": 20,
     "metadata": {},
     "output_type": "execute_result"
    }
   ],
   "source": [
    "#Add an extra dimension\n",
    "#reshaping\n",
    "x_reshaped=x.reshape(5,2)\n",
    "x_reshaped, x_reshaped.shape"
   ]
  },
  {
   "cell_type": "code",
   "execution_count": 21,
   "id": "4376d4e3",
   "metadata": {},
   "outputs": [
    {
     "data": {
      "text/plain": [
       "(tensor([[ 0, 10, 20, 30, 40, 50, 60, 70, 80, 90]]), torch.Size([1, 10]))"
      ]
     },
     "execution_count": 21,
     "metadata": {},
     "output_type": "execute_result"
    }
   ],
   "source": [
    "#Change the view\n",
    "z=x.view(1,10)\n",
    "z,z.shape"
   ]
  },
  {
   "cell_type": "code",
   "execution_count": 22,
   "id": "8e39b84e",
   "metadata": {},
   "outputs": [
    {
     "data": {
      "text/plain": [
       "(tensor([[ 5, 10, 20, 30, 40, 50, 60, 70, 80, 90]]),\n",
       " tensor([ 5, 10, 20, 30, 40, 50, 60, 70, 80, 90]))"
      ]
     },
     "execution_count": 22,
     "metadata": {},
     "output_type": "execute_result"
    }
   ],
   "source": [
    "# view shares the same memory as the original tensor\n",
    "z[:,0]=5\n",
    "z,x"
   ]
  },
  {
   "cell_type": "code",
   "execution_count": 23,
   "id": "d80bf0f4",
   "metadata": {},
   "outputs": [
    {
     "data": {
      "text/plain": [
       "tensor([[ 5,  5,  5,  5,  5],\n",
       "        [10, 10, 10, 10, 10],\n",
       "        [20, 20, 20, 20, 20],\n",
       "        [30, 30, 30, 30, 30],\n",
       "        [40, 40, 40, 40, 40],\n",
       "        [50, 50, 50, 50, 50],\n",
       "        [60, 60, 60, 60, 60],\n",
       "        [70, 70, 70, 70, 70],\n",
       "        [80, 80, 80, 80, 80],\n",
       "        [90, 90, 90, 90, 90]])"
      ]
     },
     "execution_count": 23,
     "metadata": {},
     "output_type": "execute_result"
    }
   ],
   "source": [
    "#stacking tensors on top of each other\n",
    "x_stacked=torch.stack([x,x,x,x,x],dim=1)\n",
    "x_stacked"
   ]
  },
  {
   "cell_type": "code",
   "execution_count": 24,
   "id": "b6360aa2",
   "metadata": {},
   "outputs": [],
   "source": [
    "x_reshaped=x_reshaped.reshape([1,10])"
   ]
  },
  {
   "cell_type": "code",
   "execution_count": 25,
   "id": "a010997d",
   "metadata": {},
   "outputs": [],
   "source": [
    "#using squeeze method ==> torch.squeeze(tensor)\n",
    "x_squeezed=torch.squeeze(x_reshaped)"
   ]
  },
  {
   "cell_type": "code",
   "execution_count": 26,
   "id": "6267f1f4",
   "metadata": {},
   "outputs": [
    {
     "data": {
      "text/plain": [
       "torch.Size([10])"
      ]
     },
     "execution_count": 26,
     "metadata": {},
     "output_type": "execute_result"
    }
   ],
   "source": [
    "x_reshaped.squeeze().shape"
   ]
  },
  {
   "cell_type": "code",
   "execution_count": 27,
   "id": "6b4c2d74",
   "metadata": {},
   "outputs": [
    {
     "name": "stdout",
     "output_type": "stream",
     "text": [
      " Previous Tensor : tensor([ 5, 10, 20, 30, 40, 50, 60, 70, 80, 90])\n",
      "Shape of  Previous Tensor : torch.Size([10])\n",
      " New Tensor : tensor([[ 5, 10, 20, 30, 40, 50, 60, 70, 80, 90]])\n",
      "Shape of  New Tensor : torch.Size([1, 10])\n"
     ]
    }
   ],
   "source": [
    "#unsqueesing with formated output\n",
    "#unsqueesing : adds a single dimension to a tensor\n",
    "x_unsqueezed=x_squeezed.unsqueeze(dim=0)\n",
    "\n",
    "\n",
    "print(f\" Previous Tensor : {x_squeezed}\")\n",
    "print(f\"Shape of  Previous Tensor : {x_squeezed.shape}\")\n",
    "\n",
    "\n",
    "print(f\" New Tensor : {x_unsqueezed}\")\n",
    "print(f\"Shape of  New Tensor : {x_unsqueezed.shape}\")"
   ]
  },
  {
   "cell_type": "code",
   "execution_count": 28,
   "id": "c3f4034c",
   "metadata": {},
   "outputs": [
    {
     "name": "stdout",
     "output_type": "stream",
     "text": [
      "Shape of  Previous Tensor : torch.Size([224, 224, 3])\n",
      "Shape of  New Tensor : torch.Size([3, 224, 224])\n"
     ]
    }
   ],
   "source": [
    "#permute : returns a view (shared memory as that of original tensor) and rearranges the dimension\n",
    "x_original=torch.rand(size=(224,224,3))\n",
    "\n",
    "#permute the dimensions\n",
    "x_permuted=x_original.permute(2,0,1)\n",
    "\n",
    "\n",
    "print(f\"Shape of  Previous Tensor : {x_original.shape}\")\n",
    "print(f\"Shape of  New Tensor : {x_permuted.shape}\")"
   ]
  },
  {
   "cell_type": "code",
   "execution_count": 29,
   "id": "a054ceda",
   "metadata": {},
   "outputs": [
    {
     "data": {
      "text/plain": [
       "(tensor([[[1, 2, 3],\n",
       "          [4, 5, 6],\n",
       "          [7, 8, 9]]]),\n",
       " torch.Size([1, 3, 3]))"
      ]
     },
     "execution_count": 29,
     "metadata": {},
     "output_type": "execute_result"
    }
   ],
   "source": [
    "# Indexing (Selecting data in tensors)\n",
    "x=torch.arange(1,10).reshape(1,3,3)\n",
    "x , x.shape"
   ]
  },
  {
   "cell_type": "code",
   "execution_count": 30,
   "id": "fddb469f",
   "metadata": {},
   "outputs": [
    {
     "data": {
      "text/plain": [
       "tensor([1, 2, 3])"
      ]
     },
     "execution_count": 30,
     "metadata": {},
     "output_type": "execute_result"
    }
   ],
   "source": [
    "#indexing on middle bracket (dim=1)\n",
    "x[0][0] #same asx[0,0]"
   ]
  },
  {
   "cell_type": "code",
   "execution_count": 31,
   "id": "258e1c25",
   "metadata": {},
   "outputs": [
    {
     "data": {
      "text/plain": [
       "tensor(5)"
      ]
     },
     "execution_count": 31,
     "metadata": {},
     "output_type": "execute_result"
    }
   ],
   "source": [
    "#indexing innermost bracket\n",
    "x[0][1][1]"
   ]
  },
  {
   "cell_type": "code",
   "execution_count": 32,
   "id": "d00cfb10",
   "metadata": {},
   "outputs": [],
   "source": [
    "# Getting number 9 from tensor using indexing\n",
    "#mycode \n",
    "# x[0,2,2]"
   ]
  },
  {
   "cell_type": "code",
   "execution_count": 33,
   "id": "6f40d88a",
   "metadata": {},
   "outputs": [
    {
     "data": {
      "text/plain": [
       "tensor([[3, 6, 9]])"
      ]
     },
     "execution_count": 33,
     "metadata": {},
     "output_type": "execute_result"
    }
   ],
   "source": [
    "# Getting number 3,6,9 from tensor using indexing\n",
    "#mycode\n",
    "\n",
    "\"\"\"Answer from video\"\"\"\n",
    "x[:,:,2]"
   ]
  },
  {
   "cell_type": "code",
   "execution_count": 34,
   "id": "1a5a8c24",
   "metadata": {},
   "outputs": [
    {
     "data": {
      "text/plain": [
       "tensor([5])"
      ]
     },
     "execution_count": 34,
     "metadata": {},
     "output_type": "execute_result"
    }
   ],
   "source": [
    "# Get all values of the 0 th dimension but only the 1 value of the 1st and 2nd dimension\n",
    "x[:,1,1]"
   ]
  },
  {
   "cell_type": "code",
   "execution_count": 35,
   "id": "bc4d763d",
   "metadata": {},
   "outputs": [
    {
     "data": {
      "text/plain": [
       "tensor([1, 2, 3])"
      ]
     },
     "execution_count": 35,
     "metadata": {},
     "output_type": "execute_result"
    }
   ],
   "source": [
    "# get index 0 of the 0th dimension and all values 0f 2nd dimension\n",
    "x[0,0,:]"
   ]
  },
  {
   "cell_type": "code",
   "execution_count": 44,
   "id": "685b658e",
   "metadata": {},
   "outputs": [
    {
     "data": {
      "text/plain": [
       "(array([1., 2., 3., 4., 5., 6., 7.]),\n",
       " tensor([1., 2., 3., 4., 5., 6., 7.], dtype=torch.float64))"
      ]
     },
     "execution_count": 44,
     "metadata": {},
     "output_type": "execute_result"
    }
   ],
   "source": [
    "import torch\n",
    "import numpy as np\n",
    "\n",
    "array=np.arange(1.0, 8.0)\n",
    "tensor =torch.from_numpy(array)\n",
    "array, tensor"
   ]
  },
  {
   "cell_type": "code",
   "execution_count": 45,
   "id": "1a86c014",
   "metadata": {},
   "outputs": [
    {
     "data": {
      "text/plain": [
       "(array([2., 3., 4., 5., 6., 7., 8.]),\n",
       " tensor([1., 2., 3., 4., 5., 6., 7.], dtype=torch.float64))"
      ]
     },
     "execution_count": 45,
     "metadata": {},
     "output_type": "execute_result"
    }
   ],
   "source": [
    "#changing value of array\n",
    "array=array+1\n",
    "\n",
    "array, tensor"
   ]
  },
  {
   "cell_type": "code",
   "execution_count": 46,
   "id": "7b19464e",
   "metadata": {},
   "outputs": [
    {
     "data": {
      "text/plain": [
       "(tensor([1., 1., 1., 1., 1., 1., 1.]),\n",
       " array([1., 1., 1., 1., 1., 1., 1.], dtype=float32))"
      ]
     },
     "execution_count": 46,
     "metadata": {},
     "output_type": "execute_result"
    }
   ],
   "source": [
    "# tensor to numpy\n",
    "\n",
    "tensor=torch.ones(7)\n",
    "numpy_tensor=tensor.numpy()\n",
    "tensor,numpy_tensor"
   ]
  },
  {
   "cell_type": "code",
   "execution_count": 47,
   "id": "a66379f9",
   "metadata": {},
   "outputs": [
    {
     "data": {
      "text/plain": [
       "(tensor([2., 2., 2., 2., 2., 2., 2.]),\n",
       " array([1., 1., 1., 1., 1., 1., 1.], dtype=float32))"
      ]
     },
     "execution_count": 47,
     "metadata": {},
     "output_type": "execute_result"
    }
   ],
   "source": [
    "#changing the value of tensor\n",
    "tensor=tensor+1\n",
    "tensor,numpy_tensor"
   ]
  },
  {
   "cell_type": "code",
   "execution_count": null,
   "id": "a2db958e",
   "metadata": {},
   "outputs": [
    {
     "name": "stdout",
     "output_type": "stream",
     "text": [
      "tensor([[0.9165, 0.9145, 0.0550, 0.3044],\n",
      "        [0.8352, 0.8222, 0.8944, 0.6620],\n",
      "        [0.1760, 0.1978, 0.6313, 0.5285]])\n",
      "tensor([[4.9507e-01, 8.7492e-01, 7.4184e-04, 3.0529e-01],\n",
      "        [7.7996e-01, 7.3050e-01, 1.5454e-02, 8.1095e-01],\n",
      "        [4.1198e-01, 1.0513e-01, 8.2728e-01, 7.0962e-01]])\n",
      "tensor([[False, False, False, False],\n",
      "        [False, False, False, False],\n",
      "        [False, False, False, False]])\n"
     ]
    }
   ],
   "source": [
    "randomTensorA=torch.rand(3,4)\n",
    "randomTensorB=torch.rand(3,4)\n",
    "\n",
    "print(randomTensorA)\n",
    "print(randomTensorB)\n",
    "print(randomTensorB==randomTensorA)"
   ]
  },
  {
   "cell_type": "code",
   "execution_count": 51,
   "id": "edd3dbeb",
   "metadata": {},
   "outputs": [
    {
     "name": "stdout",
     "output_type": "stream",
     "text": [
      "tensor([[0.8823, 0.9150, 0.3829, 0.9593],\n",
      "        [0.3904, 0.6009, 0.2566, 0.7936],\n",
      "        [0.9408, 0.1332, 0.9346, 0.5936]])\n",
      "tensor([[0.8823, 0.9150, 0.3829, 0.9593],\n",
      "        [0.3904, 0.6009, 0.2566, 0.7936],\n",
      "        [0.9408, 0.1332, 0.9346, 0.5936]])\n",
      "tensor([[True, True, True, True],\n",
      "        [True, True, True, True],\n",
      "        [True, True, True, True]])\n"
     ]
    }
   ],
   "source": [
    "\"\"\"making random but reproduciable tensors\"\"\"\n",
    "\n",
    "#setting random seed\n",
    "RANDOM_SEED=42\n",
    "torch.manual_seed(RANDOM_SEED)\n",
    "randomTensorC=torch.rand(3,4)\n",
    "torch.manual_seed(RANDOM_SEED)\n",
    "randomTensorD=torch.rand(3,4)\n",
    "\n",
    "print(randomTensorC)\n",
    "print(randomTensorD)\n",
    "print(randomTensorC==randomTensorD)"
   ]
  }
 ],
 "metadata": {
  "kernelspec": {
   "display_name": "Python 3",
   "language": "python",
   "name": "python3"
  },
  "language_info": {
   "codemirror_mode": {
    "name": "ipython",
    "version": 3
   },
   "file_extension": ".py",
   "mimetype": "text/x-python",
   "name": "python",
   "nbconvert_exporter": "python",
   "pygments_lexer": "ipython3",
   "version": "3.11.5"
  }
 },
 "nbformat": 4,
 "nbformat_minor": 5
}
