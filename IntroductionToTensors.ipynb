{
 "cells": [
  {
   "cell_type": "code",
   "execution_count": 1,
   "id": "777e5156",
   "metadata": {},
   "outputs": [
    {
     "name": "stdout",
     "output_type": "stream",
     "text": [
      "2.7.0+cpu\n"
     ]
    }
   ],
   "source": [
    "import torch\n",
    "print(torch.__version__)"
   ]
  },
  {
   "cell_type": "code",
   "execution_count": 2,
   "id": "4ddc15f6",
   "metadata": {},
   "outputs": [
    {
     "data": {
      "text/plain": [
       "7"
      ]
     },
     "execution_count": 2,
     "metadata": {},
     "output_type": "execute_result"
    }
   ],
   "source": [
    "#scalar \n",
    "\n",
    "scalar=torch.tensor(7)\n",
    "scalar.item()\n",
    "# item function converts the type to primitve"
   ]
  },
  {
   "cell_type": "code",
   "execution_count": 3,
   "id": "09d5d120",
   "metadata": {},
   "outputs": [
    {
     "data": {
      "text/plain": [
       "torch.Size([2])"
      ]
     },
     "execution_count": 3,
     "metadata": {},
     "output_type": "execute_result"
    }
   ],
   "source": [
    "# vector\n",
    "vector=torch.tensor([7,7])\n",
    "vector.shape #size of a vector"
   ]
  },
  {
   "cell_type": "code",
   "execution_count": 4,
   "id": "263fa6ca",
   "metadata": {},
   "outputs": [
    {
     "data": {
      "text/plain": [
       "tensor([[0.3970, 0.8388, 0.4523, 0.2154],\n",
       "        [0.6262, 0.4489, 0.6125, 0.7279],\n",
       "        [0.0670, 0.7672, 0.6271, 0.5622]])"
      ]
     },
     "execution_count": 4,
     "metadata": {},
     "output_type": "execute_result"
    }
   ],
   "source": [
    "# creating a random tensor\n",
    "random_tensor=torch.rand(3,4)\n",
    "random_tensor"
   ]
  },
  {
   "cell_type": "code",
   "execution_count": 5,
   "id": "361daff5",
   "metadata": {},
   "outputs": [
    {
     "data": {
      "text/plain": [
       "torch.Size([224, 224, 3])"
      ]
     },
     "execution_count": 5,
     "metadata": {},
     "output_type": "execute_result"
    }
   ],
   "source": [
    "#crearing a random tensor with similar shape to an image tensor\n",
    "random_image_size_tensor=torch.rand(size=(224,224,3))\n",
    "random_image_size_tensor.shape\n"
   ]
  },
  {
   "cell_type": "markdown",
   "id": "db85d71e",
   "metadata": {},
   "source": [
    "## Tensor Operations"
   ]
  },
  {
   "cell_type": "code",
   "execution_count": null,
   "id": "3163b090",
   "metadata": {},
   "outputs": [
    {
     "data": {
      "text/plain": [
       "tensor([11, 12, 13])"
      ]
     },
     "execution_count": 6,
     "metadata": {},
     "output_type": "execute_result"
    }
   ],
   "source": [
    "#creating a tensor\n",
    "tensor= torch.tensor([1,2,3])\n",
    "tensor+10\n"
   ]
  },
  {
   "cell_type": "markdown",
   "id": "def24e33",
   "metadata": {},
   "source": [
    "### Matrix Multiplication"
   ]
  },
  {
   "cell_type": "code",
   "execution_count": 7,
   "id": "23e37bea",
   "metadata": {},
   "outputs": [
    {
     "name": "stdout",
     "output_type": "stream",
     "text": [
      "tensor([1, 2, 3]) * tensor([1, 2, 3])\n",
      "Equals tensor([1, 4, 9])\n"
     ]
    }
   ],
   "source": [
    "print(tensor ,\"*\", tensor)\n",
    "print(f\"Equals {tensor*tensor}\")"
   ]
  },
  {
   "cell_type": "code",
   "execution_count": 8,
   "id": "e0fa0676",
   "metadata": {},
   "outputs": [
    {
     "name": "stdout",
     "output_type": "stream",
     "text": [
      "Matrix multiplication of tensor : tensor([1, 2, 3])\n",
      "tensor(14)\n"
     ]
    }
   ],
   "source": [
    "\n",
    "print(f\"Matrix multiplication of tensor : {tensor}\")\n",
    "print(torch.matmul(tensor,tensor))"
   ]
  },
  {
   "cell_type": "code",
   "execution_count": 24,
   "id": "6554294c",
   "metadata": {},
   "outputs": [],
   "source": [
    "#dealing with shape errors\n",
    "#intensional error\n",
    "tensor_A=torch.tensor([[1,2],\n",
    "                       [3,4],\n",
    "                       [5,6]])\n",
    "\n",
    "tensor_B=torch.tensor([[7,10],\n",
    "                       [8,11],\n",
    "                       [9,12]])\n",
    "\n",
    "# torch.matmul(tensor_A,tensor_B)"
   ]
  },
  {
   "cell_type": "code",
   "execution_count": 10,
   "id": "a2f790f6",
   "metadata": {},
   "outputs": [
    {
     "data": {
      "text/plain": [
       "tensor([[ 27,  30,  33],\n",
       "        [ 61,  68,  75],\n",
       "        [ 95, 106, 117]])"
      ]
     },
     "execution_count": 10,
     "metadata": {},
     "output_type": "execute_result"
    }
   ],
   "source": [
    "tensor_A=torch.tensor([[1,2],\n",
    "                       [3,4],\n",
    "                       [5,6]])\n",
    "\n",
    "tensor_B=torch.tensor([[7,10],\n",
    "                       [8,11],\n",
    "                       [9,12]])\n",
    "\n",
    "torch.matmul(tensor_A,tensor_B.T)\n",
    "# This operation will work when B is transposed"
   ]
  },
  {
   "cell_type": "code",
   "execution_count": 11,
   "id": "eb82a028",
   "metadata": {},
   "outputs": [
    {
     "name": "stdout",
     "output_type": "stream",
     "text": [
      "Original Shapes : tensor_A = torch.Size([3, 2]) , tensor_B = torch.Size([3, 2])\n",
      "New Shapes : tensor_A = torch.Size([3, 2]) (same as above), tensor_B.T = torch.Size([2, 3])\n",
      "Multipying : torch.Size([3, 2]) @ torch.Size([2, 3])\n",
      "\n",
      "Output:\n",
      "tensor([[ 27,  30,  33],\n",
      "        [ 61,  68,  75],\n",
      "        [ 95, 106, 117]])\n",
      "\n",
      "Output shape: torch.Size([3, 3])\n"
     ]
    }
   ],
   "source": [
    "print(f\"Original Shapes : tensor_A = {tensor_A.shape} , tensor_B = {tensor_B.shape}\")\n",
    "print(f\"New Shapes : tensor_A = {tensor_A.shape} (same as above), tensor_B.T = {tensor_B.T.shape}\")\n",
    "print(f\"Multipying : {tensor_A.shape} @ {tensor_B.T.shape}\")\n",
    "print(f\"\\nOutput:\")\n",
    "print(f\"{torch.matmul(tensor_A,tensor_B.T)}\")\n",
    "print(f\"\\nOutput shape: {torch.matmul(tensor_A,tensor_B.T).shape}\")"
   ]
  },
  {
   "cell_type": "markdown",
   "id": "75b68626",
   "metadata": {},
   "source": [
    "### Tensor aggeration"
   ]
  },
  {
   "cell_type": "code",
   "execution_count": 12,
   "id": "5bc99ecb",
   "metadata": {},
   "outputs": [
    {
     "data": {
      "text/plain": [
       "(tensor([ 0, 10, 20, 30, 40, 50, 60, 70, 80, 90]), torch.int64)"
      ]
     },
     "execution_count": 12,
     "metadata": {},
     "output_type": "execute_result"
    }
   ],
   "source": [
    "# defining a tensor\n",
    "x=torch.arange(0,100,10)\n",
    "x, x.dtype"
   ]
  },
  {
   "cell_type": "code",
   "execution_count": 13,
   "id": "c9851f20",
   "metadata": {},
   "outputs": [
    {
     "data": {
      "text/plain": [
       "(tensor(90), tensor(90))"
      ]
     },
     "execution_count": 13,
     "metadata": {},
     "output_type": "execute_result"
    }
   ],
   "source": [
    "# finding min value\n",
    "x.max(), torch.max(x)"
   ]
  },
  {
   "cell_type": "code",
   "execution_count": 14,
   "id": "f75550ce",
   "metadata": {},
   "outputs": [
    {
     "data": {
      "text/plain": [
       "(tensor(0), tensor(0))"
      ]
     },
     "execution_count": 14,
     "metadata": {},
     "output_type": "execute_result"
    }
   ],
   "source": [
    "# finding min value\n",
    "x.min(), torch.min(x)"
   ]
  },
  {
   "cell_type": "code",
   "execution_count": null,
   "id": "0ba7d2fa",
   "metadata": {},
   "outputs": [
    {
     "ename": "RuntimeError",
     "evalue": "mean(): could not infer output dtype. Input dtype must be either a floating point or complex dtype. Got: Long",
     "output_type": "error",
     "traceback": [
      "\u001b[31m---------------------------------------------------------------------------\u001b[39m",
      "\u001b[31mRuntimeError\u001b[39m                              Traceback (most recent call last)",
      "\u001b[36mCell\u001b[39m\u001b[36m \u001b[39m\u001b[32mIn[15]\u001b[39m\u001b[32m, line 3\u001b[39m\n\u001b[32m      1\u001b[39m \u001b[38;5;66;03m#finding mean \u001b[39;00m\n\u001b[32m      2\u001b[39m \u001b[38;5;66;03m## Error left intensionally\u001b[39;00m\n\u001b[32m----> \u001b[39m\u001b[32m3\u001b[39m \u001b[43mx\u001b[49m\u001b[43m.\u001b[49m\u001b[43mmean\u001b[49m\u001b[43m(\u001b[49m\u001b[43m)\u001b[49m\n",
      "\u001b[31mRuntimeError\u001b[39m: mean(): could not infer output dtype. Input dtype must be either a floating point or complex dtype. Got: Long"
     ]
    }
   ],
   "source": [
    "#finding mean \n",
    "## Error left intensionally\n",
    "# x.mean()"
   ]
  },
  {
   "cell_type": "code",
   "execution_count": 16,
   "id": "3c3ccd92",
   "metadata": {},
   "outputs": [
    {
     "data": {
      "text/plain": [
       "(tensor(45.), tensor(45.))"
      ]
     },
     "execution_count": 16,
     "metadata": {},
     "output_type": "execute_result"
    }
   ],
   "source": [
    "#we can convert the data type of tensor using x.type(torch.float32)\n",
    "torch.mean(x.type(torch.float32)), x.type(torch.float32).mean()"
   ]
  },
  {
   "cell_type": "code",
   "execution_count": 17,
   "id": "f018204a",
   "metadata": {},
   "outputs": [
    {
     "data": {
      "text/plain": [
       "tensor(0)"
      ]
     },
     "execution_count": 17,
     "metadata": {},
     "output_type": "execute_result"
    }
   ],
   "source": [
    "# Finding the positional min of a tensor and return the index\n",
    "x.argmin()"
   ]
  },
  {
   "cell_type": "code",
   "execution_count": 18,
   "id": "0886cbb5",
   "metadata": {},
   "outputs": [
    {
     "data": {
      "text/plain": [
       "tensor(9)"
      ]
     },
     "execution_count": 18,
     "metadata": {},
     "output_type": "execute_result"
    }
   ],
   "source": [
    "# Finding the positional max of a tensor and return the index\n",
    "x.argmax()"
   ]
  },
  {
   "cell_type": "code",
   "execution_count": 19,
   "id": "8316ca61",
   "metadata": {},
   "outputs": [
    {
     "data": {
      "text/plain": [
       "(tensor([[ 0],\n",
       "         [10],\n",
       "         [20],\n",
       "         [30],\n",
       "         [40],\n",
       "         [50],\n",
       "         [60],\n",
       "         [70],\n",
       "         [80],\n",
       "         [90]]),\n",
       " torch.Size([10, 1]))"
      ]
     },
     "execution_count": 19,
     "metadata": {},
     "output_type": "execute_result"
    }
   ],
   "source": [
    "#Add an extra dimension\n",
    "#reshaping\n",
    "x_reshaped=x.reshape(10,1)\n",
    "x_reshaped, x_reshaped.shape"
   ]
  },
  {
   "cell_type": "code",
   "execution_count": 20,
   "id": "33a8abe9",
   "metadata": {},
   "outputs": [
    {
     "data": {
      "text/plain": [
       "(tensor([[ 0, 10],\n",
       "         [20, 30],\n",
       "         [40, 50],\n",
       "         [60, 70],\n",
       "         [80, 90]]),\n",
       " torch.Size([5, 2]))"
      ]
     },
     "execution_count": 20,
     "metadata": {},
     "output_type": "execute_result"
    }
   ],
   "source": [
    "#Add an extra dimension\n",
    "#reshaping\n",
    "x_reshaped=x.reshape(5,2)\n",
    "x_reshaped, x_reshaped.shape"
   ]
  },
  {
   "cell_type": "code",
   "execution_count": 21,
   "id": "4376d4e3",
   "metadata": {},
   "outputs": [
    {
     "data": {
      "text/plain": [
       "(tensor([[ 0, 10, 20, 30, 40, 50, 60, 70, 80, 90]]), torch.Size([1, 10]))"
      ]
     },
     "execution_count": 21,
     "metadata": {},
     "output_type": "execute_result"
    }
   ],
   "source": [
    "#Change the view\n",
    "z=x.view(1,10)\n",
    "z,z.shape"
   ]
  },
  {
   "cell_type": "code",
   "execution_count": 22,
   "id": "8e39b84e",
   "metadata": {},
   "outputs": [
    {
     "data": {
      "text/plain": [
       "(tensor([[ 5, 10, 20, 30, 40, 50, 60, 70, 80, 90]]),\n",
       " tensor([ 5, 10, 20, 30, 40, 50, 60, 70, 80, 90]))"
      ]
     },
     "execution_count": 22,
     "metadata": {},
     "output_type": "execute_result"
    }
   ],
   "source": [
    "# view shares the same memory as the original tensor\n",
    "z[:,0]=5\n",
    "z,x"
   ]
  },
  {
   "cell_type": "code",
   "execution_count": 23,
   "id": "d80bf0f4",
   "metadata": {},
   "outputs": [
    {
     "data": {
      "text/plain": [
       "tensor([[ 5,  5,  5,  5,  5],\n",
       "        [10, 10, 10, 10, 10],\n",
       "        [20, 20, 20, 20, 20],\n",
       "        [30, 30, 30, 30, 30],\n",
       "        [40, 40, 40, 40, 40],\n",
       "        [50, 50, 50, 50, 50],\n",
       "        [60, 60, 60, 60, 60],\n",
       "        [70, 70, 70, 70, 70],\n",
       "        [80, 80, 80, 80, 80],\n",
       "        [90, 90, 90, 90, 90]])"
      ]
     },
     "execution_count": 23,
     "metadata": {},
     "output_type": "execute_result"
    }
   ],
   "source": [
    "#stacking tensors on top of each other\n",
    "x_stacked=torch.stack([x,x,x,x,x],dim=1)\n",
    "x_stacked"
   ]
  }
 ],
 "metadata": {
  "kernelspec": {
   "display_name": "Python 3",
   "language": "python",
   "name": "python3"
  },
  "language_info": {
   "codemirror_mode": {
    "name": "ipython",
    "version": 3
   },
   "file_extension": ".py",
   "mimetype": "text/x-python",
   "name": "python",
   "nbconvert_exporter": "python",
   "pygments_lexer": "ipython3",
   "version": "3.11.5"
  }
 },
 "nbformat": 4,
 "nbformat_minor": 5
}
