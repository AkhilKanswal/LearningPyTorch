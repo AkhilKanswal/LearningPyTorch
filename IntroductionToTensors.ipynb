{
 "cells": [
  {
   "cell_type": "code",
   "execution_count": 25,
   "id": "777e5156",
   "metadata": {},
   "outputs": [
    {
     "name": "stdout",
     "output_type": "stream",
     "text": [
      "2.7.0+cpu\n"
     ]
    }
   ],
   "source": [
    "import torch\n",
    "print(torch.__version__)"
   ]
  },
  {
   "cell_type": "code",
   "execution_count": 26,
   "id": "4ddc15f6",
   "metadata": {},
   "outputs": [
    {
     "data": {
      "text/plain": [
       "7"
      ]
     },
     "execution_count": 26,
     "metadata": {},
     "output_type": "execute_result"
    }
   ],
   "source": [
    "#scalar \n",
    "\n",
    "scalar=torch.tensor(7)\n",
    "scalar.item()\n",
    "# item function converts the type to primitve"
   ]
  },
  {
   "cell_type": "code",
   "execution_count": 27,
   "id": "09d5d120",
   "metadata": {},
   "outputs": [
    {
     "data": {
      "text/plain": [
       "torch.Size([2])"
      ]
     },
     "execution_count": 27,
     "metadata": {},
     "output_type": "execute_result"
    }
   ],
   "source": [
    "# vector\n",
    "vector=torch.tensor([7,7])\n",
    "vector.shape #size of a vector"
   ]
  },
  {
   "cell_type": "code",
   "execution_count": 28,
   "id": "263fa6ca",
   "metadata": {},
   "outputs": [
    {
     "data": {
      "text/plain": [
       "tensor([[0.0065, 0.6666, 0.4742, 0.7957],\n",
       "        [0.9471, 0.8817, 0.7602, 0.5363],\n",
       "        [0.5956, 0.9023, 0.0352, 0.2928]])"
      ]
     },
     "execution_count": 28,
     "metadata": {},
     "output_type": "execute_result"
    }
   ],
   "source": [
    "# creating a random tensor\n",
    "random_tensor=torch.rand(3,4)\n",
    "random_tensor"
   ]
  },
  {
   "cell_type": "code",
   "execution_count": 29,
   "id": "361daff5",
   "metadata": {},
   "outputs": [
    {
     "data": {
      "text/plain": [
       "torch.Size([224, 224, 3])"
      ]
     },
     "execution_count": 29,
     "metadata": {},
     "output_type": "execute_result"
    }
   ],
   "source": [
    "#crearing a random tensor with similar shape to an image tensor\n",
    "random_image_size_tensor=torch.rand(size=(224,224,3))\n",
    "random_image_size_tensor.shape\n"
   ]
  },
  {
   "cell_type": "markdown",
   "id": "db85d71e",
   "metadata": {},
   "source": [
    "## Tensor Operations"
   ]
  },
  {
   "cell_type": "code",
   "execution_count": 30,
   "id": "3163b090",
   "metadata": {},
   "outputs": [
    {
     "data": {
      "text/plain": [
       "tensor([11, 12, 13])"
      ]
     },
     "execution_count": 30,
     "metadata": {},
     "output_type": "execute_result"
    }
   ],
   "source": [
    "#creating a tensor\n",
    "tensor= torch.tensor([1,2,3])\n",
    "tensor+10\n"
   ]
  },
  {
   "cell_type": "markdown",
   "id": "def24e33",
   "metadata": {},
   "source": [
    "### Matrix Multiplication"
   ]
  },
  {
   "cell_type": "code",
   "execution_count": 31,
   "id": "23e37bea",
   "metadata": {},
   "outputs": [
    {
     "name": "stdout",
     "output_type": "stream",
     "text": [
      "tensor([1, 2, 3]) * tensor([1, 2, 3])\n",
      "Equals tensor([1, 4, 9])\n"
     ]
    }
   ],
   "source": [
    "print(tensor ,\"*\", tensor)\n",
    "print(f\"Equals {tensor*tensor}\")"
   ]
  },
  {
   "cell_type": "code",
   "execution_count": 32,
   "id": "e0fa0676",
   "metadata": {},
   "outputs": [
    {
     "name": "stdout",
     "output_type": "stream",
     "text": [
      "Matrix multiplication of tensor : tensor([1, 2, 3])\n",
      "tensor(14)\n"
     ]
    }
   ],
   "source": [
    "\n",
    "print(f\"Matrix multiplication of tensor : {tensor}\")\n",
    "print(torch.matmul(tensor,tensor))"
   ]
  },
  {
   "cell_type": "code",
   "execution_count": 33,
   "id": "6554294c",
   "metadata": {},
   "outputs": [],
   "source": [
    "#dealing with shape errors\n",
    "#intensional error\n",
    "tensor_A=torch.tensor([[1,2],\n",
    "                       [3,4],\n",
    "                       [5,6]])\n",
    "\n",
    "tensor_B=torch.tensor([[7,10],\n",
    "                       [8,11],\n",
    "                       [9,12]])\n",
    "\n",
    "# torch.matmul(tensor_A,tensor_B)"
   ]
  },
  {
   "cell_type": "code",
   "execution_count": 34,
   "id": "a2f790f6",
   "metadata": {},
   "outputs": [
    {
     "data": {
      "text/plain": [
       "tensor([[ 27,  30,  33],\n",
       "        [ 61,  68,  75],\n",
       "        [ 95, 106, 117]])"
      ]
     },
     "execution_count": 34,
     "metadata": {},
     "output_type": "execute_result"
    }
   ],
   "source": [
    "tensor_A=torch.tensor([[1,2],\n",
    "                       [3,4],\n",
    "                       [5,6]])\n",
    "\n",
    "tensor_B=torch.tensor([[7,10],\n",
    "                       [8,11],\n",
    "                       [9,12]])\n",
    "\n",
    "torch.matmul(tensor_A,tensor_B.T)\n",
    "# This operation will work when B is transposed"
   ]
  },
  {
   "cell_type": "code",
   "execution_count": 35,
   "id": "eb82a028",
   "metadata": {},
   "outputs": [
    {
     "name": "stdout",
     "output_type": "stream",
     "text": [
      "Original Shapes : tensor_A = torch.Size([3, 2]) , tensor_B = torch.Size([3, 2])\n",
      "New Shapes : tensor_A = torch.Size([3, 2]) (same as above), tensor_B.T = torch.Size([2, 3])\n",
      "Multipying : torch.Size([3, 2]) @ torch.Size([2, 3])\n",
      "\n",
      "Output:\n",
      "tensor([[ 27,  30,  33],\n",
      "        [ 61,  68,  75],\n",
      "        [ 95, 106, 117]])\n",
      "\n",
      "Output shape: torch.Size([3, 3])\n"
     ]
    }
   ],
   "source": [
    "print(f\"Original Shapes : tensor_A = {tensor_A.shape} , tensor_B = {tensor_B.shape}\")\n",
    "print(f\"New Shapes : tensor_A = {tensor_A.shape} (same as above), tensor_B.T = {tensor_B.T.shape}\")\n",
    "print(f\"Multipying : {tensor_A.shape} @ {tensor_B.T.shape}\")\n",
    "print(f\"\\nOutput:\")\n",
    "print(f\"{torch.matmul(tensor_A,tensor_B.T)}\")\n",
    "print(f\"\\nOutput shape: {torch.matmul(tensor_A,tensor_B.T).shape}\")"
   ]
  },
  {
   "cell_type": "markdown",
   "id": "75b68626",
   "metadata": {},
   "source": [
    "### Tensor aggeration"
   ]
  },
  {
   "cell_type": "code",
   "execution_count": 36,
   "id": "5bc99ecb",
   "metadata": {},
   "outputs": [
    {
     "data": {
      "text/plain": [
       "(tensor([ 0, 10, 20, 30, 40, 50, 60, 70, 80, 90]), torch.int64)"
      ]
     },
     "execution_count": 36,
     "metadata": {},
     "output_type": "execute_result"
    }
   ],
   "source": [
    "# defining a tensor\n",
    "x=torch.arange(0,100,10)\n",
    "x, x.dtype"
   ]
  },
  {
   "cell_type": "code",
   "execution_count": 37,
   "id": "c9851f20",
   "metadata": {},
   "outputs": [
    {
     "data": {
      "text/plain": [
       "(tensor(90), tensor(90))"
      ]
     },
     "execution_count": 37,
     "metadata": {},
     "output_type": "execute_result"
    }
   ],
   "source": [
    "# finding min value\n",
    "x.max(), torch.max(x)"
   ]
  },
  {
   "cell_type": "code",
   "execution_count": 38,
   "id": "f75550ce",
   "metadata": {},
   "outputs": [
    {
     "data": {
      "text/plain": [
       "(tensor(0), tensor(0))"
      ]
     },
     "execution_count": 38,
     "metadata": {},
     "output_type": "execute_result"
    }
   ],
   "source": [
    "# finding min value\n",
    "x.min(), torch.min(x)"
   ]
  },
  {
   "cell_type": "code",
   "execution_count": 39,
   "id": "0ba7d2fa",
   "metadata": {},
   "outputs": [],
   "source": [
    "#finding mean \n",
    "## Error left intensionally\n",
    "# x.mean()"
   ]
  },
  {
   "cell_type": "code",
   "execution_count": 40,
   "id": "3c3ccd92",
   "metadata": {},
   "outputs": [
    {
     "data": {
      "text/plain": [
       "(tensor(45.), tensor(45.))"
      ]
     },
     "execution_count": 40,
     "metadata": {},
     "output_type": "execute_result"
    }
   ],
   "source": [
    "#we can convert the data type of tensor using x.type(torch.float32)\n",
    "torch.mean(x.type(torch.float32)), x.type(torch.float32).mean()"
   ]
  },
  {
   "cell_type": "code",
   "execution_count": 41,
   "id": "f018204a",
   "metadata": {},
   "outputs": [
    {
     "data": {
      "text/plain": [
       "tensor(0)"
      ]
     },
     "execution_count": 41,
     "metadata": {},
     "output_type": "execute_result"
    }
   ],
   "source": [
    "# Finding the positional min of a tensor and return the index\n",
    "x.argmin()"
   ]
  },
  {
   "cell_type": "code",
   "execution_count": 42,
   "id": "0886cbb5",
   "metadata": {},
   "outputs": [
    {
     "data": {
      "text/plain": [
       "tensor(9)"
      ]
     },
     "execution_count": 42,
     "metadata": {},
     "output_type": "execute_result"
    }
   ],
   "source": [
    "# Finding the positional max of a tensor and return the index\n",
    "x.argmax()"
   ]
  },
  {
   "cell_type": "code",
   "execution_count": 43,
   "id": "8316ca61",
   "metadata": {},
   "outputs": [
    {
     "data": {
      "text/plain": [
       "(tensor([[ 0],\n",
       "         [10],\n",
       "         [20],\n",
       "         [30],\n",
       "         [40],\n",
       "         [50],\n",
       "         [60],\n",
       "         [70],\n",
       "         [80],\n",
       "         [90]]),\n",
       " torch.Size([10, 1]))"
      ]
     },
     "execution_count": 43,
     "metadata": {},
     "output_type": "execute_result"
    }
   ],
   "source": [
    "#Add an extra dimension\n",
    "#reshaping\n",
    "x_reshaped=x.reshape(10,1)\n",
    "x_reshaped, x_reshaped.shape"
   ]
  },
  {
   "cell_type": "code",
   "execution_count": 44,
   "id": "33a8abe9",
   "metadata": {},
   "outputs": [
    {
     "data": {
      "text/plain": [
       "(tensor([[ 0, 10],\n",
       "         [20, 30],\n",
       "         [40, 50],\n",
       "         [60, 70],\n",
       "         [80, 90]]),\n",
       " torch.Size([5, 2]))"
      ]
     },
     "execution_count": 44,
     "metadata": {},
     "output_type": "execute_result"
    }
   ],
   "source": [
    "#Add an extra dimension\n",
    "#reshaping\n",
    "x_reshaped=x.reshape(5,2)\n",
    "x_reshaped, x_reshaped.shape"
   ]
  },
  {
   "cell_type": "code",
   "execution_count": 45,
   "id": "4376d4e3",
   "metadata": {},
   "outputs": [
    {
     "data": {
      "text/plain": [
       "(tensor([[ 0, 10, 20, 30, 40, 50, 60, 70, 80, 90]]), torch.Size([1, 10]))"
      ]
     },
     "execution_count": 45,
     "metadata": {},
     "output_type": "execute_result"
    }
   ],
   "source": [
    "#Change the view\n",
    "z=x.view(1,10)\n",
    "z,z.shape"
   ]
  },
  {
   "cell_type": "code",
   "execution_count": 46,
   "id": "8e39b84e",
   "metadata": {},
   "outputs": [
    {
     "data": {
      "text/plain": [
       "(tensor([[ 5, 10, 20, 30, 40, 50, 60, 70, 80, 90]]),\n",
       " tensor([ 5, 10, 20, 30, 40, 50, 60, 70, 80, 90]))"
      ]
     },
     "execution_count": 46,
     "metadata": {},
     "output_type": "execute_result"
    }
   ],
   "source": [
    "# view shares the same memory as the original tensor\n",
    "z[:,0]=5\n",
    "z,x"
   ]
  },
  {
   "cell_type": "code",
   "execution_count": 47,
   "id": "d80bf0f4",
   "metadata": {},
   "outputs": [
    {
     "data": {
      "text/plain": [
       "tensor([[ 5,  5,  5,  5,  5],\n",
       "        [10, 10, 10, 10, 10],\n",
       "        [20, 20, 20, 20, 20],\n",
       "        [30, 30, 30, 30, 30],\n",
       "        [40, 40, 40, 40, 40],\n",
       "        [50, 50, 50, 50, 50],\n",
       "        [60, 60, 60, 60, 60],\n",
       "        [70, 70, 70, 70, 70],\n",
       "        [80, 80, 80, 80, 80],\n",
       "        [90, 90, 90, 90, 90]])"
      ]
     },
     "execution_count": 47,
     "metadata": {},
     "output_type": "execute_result"
    }
   ],
   "source": [
    "#stacking tensors on top of each other\n",
    "x_stacked=torch.stack([x,x,x,x,x],dim=1)\n",
    "x_stacked"
   ]
  },
  {
   "cell_type": "code",
   "execution_count": null,
   "id": "b6360aa2",
   "metadata": {},
   "outputs": [],
   "source": [
    "x_reshaped=x_reshaped.reshape([1,10])"
   ]
  },
  {
   "cell_type": "code",
   "execution_count": 57,
   "id": "a010997d",
   "metadata": {},
   "outputs": [],
   "source": [
    "#using squeeze method ==> torch.squeeze(tensor)\n",
    "x_squeezed=torch.squeeze(x_reshaped)"
   ]
  },
  {
   "cell_type": "code",
   "execution_count": 54,
   "id": "6267f1f4",
   "metadata": {},
   "outputs": [
    {
     "data": {
      "text/plain": [
       "torch.Size([10])"
      ]
     },
     "execution_count": 54,
     "metadata": {},
     "output_type": "execute_result"
    }
   ],
   "source": [
    "x_reshaped.squeeze().shape"
   ]
  },
  {
   "cell_type": "code",
   "execution_count": 59,
   "id": "6b4c2d74",
   "metadata": {},
   "outputs": [
    {
     "name": "stdout",
     "output_type": "stream",
     "text": [
      " Previous Tensor : tensor([ 5, 10, 20, 30, 40, 50, 60, 70, 80, 90])\n",
      "Shape of  Previous Tensor : torch.Size([10])\n",
      " New Tensor : tensor([[ 5, 10, 20, 30, 40, 50, 60, 70, 80, 90]])\n",
      "Shape of  New Tensor : torch.Size([1, 10])\n"
     ]
    }
   ],
   "source": [
    "#unsqueesing with formated output\n",
    "#unsqueesing : adds a single dimension to a tensor\n",
    "x_unsqueezed=x_squeezed.unsqueeze(dim=0)\n",
    "\n",
    "\n",
    "print(f\" Previous Tensor : {x_squeezed}\")\n",
    "print(f\"Shape of  Previous Tensor : {x_squeezed.shape}\")\n",
    "\n",
    "\n",
    "print(f\" New Tensor : {x_unsqueezed}\")\n",
    "print(f\"Shape of  New Tensor : {x_unsqueezed.shape}\")"
   ]
  },
  {
   "cell_type": "code",
   "execution_count": 60,
   "id": "c3f4034c",
   "metadata": {},
   "outputs": [
    {
     "name": "stdout",
     "output_type": "stream",
     "text": [
      "Shape of  Previous Tensor : torch.Size([224, 224, 3])\n",
      "Shape of  New Tensor : torch.Size([3, 224, 224])\n"
     ]
    }
   ],
   "source": [
    "#permute : returns a view (shared memory as that of original tensor) and rearranges the dimension\n",
    "x_original=torch.rand(size=(224,224,3))\n",
    "\n",
    "#permute the dimensions\n",
    "x_permuted=x_original.permute(2,0,1)\n",
    "\n",
    "\n",
    "print(f\"Shape of  Previous Tensor : {x_original.shape}\")\n",
    "print(f\"Shape of  New Tensor : {x_permuted.shape}\")"
   ]
  }
 ],
 "metadata": {
  "kernelspec": {
   "display_name": "Python 3",
   "language": "python",
   "name": "python3"
  },
  "language_info": {
   "codemirror_mode": {
    "name": "ipython",
    "version": 3
   },
   "file_extension": ".py",
   "mimetype": "text/x-python",
   "name": "python",
   "nbconvert_exporter": "python",
   "pygments_lexer": "ipython3",
   "version": "3.11.5"
  }
 },
 "nbformat": 4,
 "nbformat_minor": 5
}
