{
  "cells": [
    {
      "cell_type": "markdown",
      "source": [
        "timestamp: 14:00:48 - 14:12:36\n",
        "\n",
        "# Computer Vision and Convolution Neural Network with PyTorch\n",
        "\n",
        "***\n",
        "### Introduction\n",
        "***\n",
        "* *Computer vision can be used for various problems such as: *\n",
        "  - *Binary classification*\n",
        "  - *Multi class Classification*\n",
        "  - *Object Detection*\n",
        "  - *Segmentation*"
      ],
      "metadata": {
        "id": "kGRjhbKb0QjM"
      },
      "id": "kGRjhbKb0QjM"
    },
    {
      "cell_type": "markdown",
      "source": [
        "timestamp: 14:12:38 - 14:27:48\n",
        "\n",
        "### Computer vision Input and output shape"
      ],
      "metadata": {
        "id": "ByrF93O22IAp"
      },
      "id": "ByrF93O22IAp"
    },
    {
      "cell_type": "markdown",
      "source": [
        "Image data is represented in form of :\n",
        "* [batch_size,color_channel,height,wigth]\n",
        "              OR\n",
        "\n",
        "* [batch_size,height,wigth,color_channel]   \n",
        "\n",
        "* *We generally use convulational neural network for image  processing and computer vision problems*\n",
        "\n",
        "* *We can stack layers of CNN in any order we want or as per the problem*"
      ],
      "metadata": {
        "id": "X6ScB3ypfRmg"
      },
      "id": "X6ScB3ypfRmg"
    },
    {
      "cell_type": "markdown",
      "source": [
        "timestamp: 14:27:49 - 14:37:10\n",
        "\n",
        "### Importing PyTorch's Computer vision library **TorchVision**\n",
        "\n",
        "### *Getting started with Computer vision with pytorch*\n",
        "\n",
        "*Computer vision Libraries in PyTorch:*\n",
        "- $1. torchvision$\n",
        "- $2. torchvision.dataset$\n",
        "- $3. torchvision.models$\n",
        "- $4. torchvision.transforms$\n",
        "- $5. torch.utils.data.Dataset$\n",
        "- $5. torch.utils.data.DataLoader$\n",
        "\n"
      ],
      "metadata": {
        "id": "7x1CSGUTgtIa"
      },
      "id": "7x1CSGUTgtIa"
    },
    {
      "cell_type": "code",
      "source": [
        "# getting started with Computer vision with pytorch\n",
        "\n",
        "import torch\n",
        "from torch import nn\n",
        "\n",
        "\n",
        "# importing torchvision\n",
        "import torchvision\n",
        "from torchvision import datasets\n",
        "from torchvision import transforms\n",
        "from torchvision.transforms import ToTensor\n",
        "\n",
        "\n",
        "#importing matplotlib\n",
        "import matplotlib.pyplot as plt\n",
        "\n",
        "\n",
        "print(torch.__version__)\n",
        "print(torchvision.__version__)"
      ],
      "metadata": {
        "id": "apVkErA8f353",
        "outputId": "4b37c34d-de02-43da-b3ec-9267477fcbc7",
        "colab": {
          "base_uri": "https://localhost:8080/"
        }
      },
      "id": "apVkErA8f353",
      "execution_count": 24,
      "outputs": [
        {
          "output_type": "stream",
          "name": "stdout",
          "text": [
            "2.6.0+cu124\n",
            "0.21.0+cu124\n"
          ]
        }
      ]
    },
    {
      "cell_type": "markdown",
      "source": [
        "timestamp: 14:37:10 - 14:51:40\n",
        "\n",
        "### Getting a Computer vision dataset and checking input and output features\n",
        "\n",
        "\n",
        "#### Getting a Dataset\n",
        "\n",
        "We'll use FashionMNIST\n"
      ],
      "metadata": {
        "id": "LHMxPggu9Uhy"
      },
      "id": "LHMxPggu9Uhy"
    },
    {
      "cell_type": "code",
      "source": [
        "#setting up training data\n",
        "train_data=datasets.FashionMNIST(\n",
        "    root=\"data\", #where to download data to?\n",
        "    train=True, #we want training data\n",
        "    download=True, #do we want to download data?\n",
        "    transform=torchvision.transforms.ToTensor(), # transforming the data\n",
        "    target_transform=None # transforming the labels\n",
        ")\n",
        "\n",
        "test_data=datasets.FashionMNIST(\n",
        "    root=\"data\",\n",
        "    train=False,\n",
        "    download=True,\n",
        "    transform=torchvision.transforms.ToTensor(),\n",
        "    target_transform=None\n",
        ")"
      ],
      "metadata": {
        "id": "9QFDsEbk9UJI"
      },
      "id": "9QFDsEbk9UJI",
      "execution_count": 25,
      "outputs": []
    },
    {
      "cell_type": "code",
      "source": [
        "# checking parameters\n",
        "len(train_data),len(test_data)"
      ],
      "metadata": {
        "colab": {
          "base_uri": "https://localhost:8080/"
        },
        "id": "G8KRbwj1BS0m",
        "outputId": "2afaac10-11e8-4f0e-b188-82437955f5fe"
      },
      "id": "G8KRbwj1BS0m",
      "execution_count": 26,
      "outputs": [
        {
          "output_type": "execute_result",
          "data": {
            "text/plain": [
              "(60000, 10000)"
            ]
          },
          "metadata": {},
          "execution_count": 26
        }
      ]
    },
    {
      "cell_type": "code",
      "source": [
        "#seeing the first training example\n",
        "image,label=train_data[0]\n",
        "image,label"
      ],
      "metadata": {
        "colab": {
          "base_uri": "https://localhost:8080/"
        },
        "id": "StqD06xNBe9v",
        "outputId": "67e53ef6-7e29-44ed-f17f-84431acc3a8f"
      },
      "id": "StqD06xNBe9v",
      "execution_count": 27,
      "outputs": [
        {
          "output_type": "execute_result",
          "data": {
            "text/plain": [
              "(tensor([[[0.0000, 0.0000, 0.0000, 0.0000, 0.0000, 0.0000, 0.0000, 0.0000,\n",
              "           0.0000, 0.0000, 0.0000, 0.0000, 0.0000, 0.0000, 0.0000, 0.0000,\n",
              "           0.0000, 0.0000, 0.0000, 0.0000, 0.0000, 0.0000, 0.0000, 0.0000,\n",
              "           0.0000, 0.0000, 0.0000, 0.0000],\n",
              "          [0.0000, 0.0000, 0.0000, 0.0000, 0.0000, 0.0000, 0.0000, 0.0000,\n",
              "           0.0000, 0.0000, 0.0000, 0.0000, 0.0000, 0.0000, 0.0000, 0.0000,\n",
              "           0.0000, 0.0000, 0.0000, 0.0000, 0.0000, 0.0000, 0.0000, 0.0000,\n",
              "           0.0000, 0.0000, 0.0000, 0.0000],\n",
              "          [0.0000, 0.0000, 0.0000, 0.0000, 0.0000, 0.0000, 0.0000, 0.0000,\n",
              "           0.0000, 0.0000, 0.0000, 0.0000, 0.0000, 0.0000, 0.0000, 0.0000,\n",
              "           0.0000, 0.0000, 0.0000, 0.0000, 0.0000, 0.0000, 0.0000, 0.0000,\n",
              "           0.0000, 0.0000, 0.0000, 0.0000],\n",
              "          [0.0000, 0.0000, 0.0000, 0.0000, 0.0000, 0.0000, 0.0000, 0.0000,\n",
              "           0.0000, 0.0000, 0.0000, 0.0000, 0.0039, 0.0000, 0.0000, 0.0510,\n",
              "           0.2863, 0.0000, 0.0000, 0.0039, 0.0157, 0.0000, 0.0000, 0.0000,\n",
              "           0.0000, 0.0039, 0.0039, 0.0000],\n",
              "          [0.0000, 0.0000, 0.0000, 0.0000, 0.0000, 0.0000, 0.0000, 0.0000,\n",
              "           0.0000, 0.0000, 0.0000, 0.0000, 0.0118, 0.0000, 0.1412, 0.5333,\n",
              "           0.4980, 0.2431, 0.2118, 0.0000, 0.0000, 0.0000, 0.0039, 0.0118,\n",
              "           0.0157, 0.0000, 0.0000, 0.0118],\n",
              "          [0.0000, 0.0000, 0.0000, 0.0000, 0.0000, 0.0000, 0.0000, 0.0000,\n",
              "           0.0000, 0.0000, 0.0000, 0.0000, 0.0235, 0.0000, 0.4000, 0.8000,\n",
              "           0.6902, 0.5255, 0.5647, 0.4824, 0.0902, 0.0000, 0.0000, 0.0000,\n",
              "           0.0000, 0.0471, 0.0392, 0.0000],\n",
              "          [0.0000, 0.0000, 0.0000, 0.0000, 0.0000, 0.0000, 0.0000, 0.0000,\n",
              "           0.0000, 0.0000, 0.0000, 0.0000, 0.0000, 0.0000, 0.6078, 0.9255,\n",
              "           0.8118, 0.6980, 0.4196, 0.6118, 0.6314, 0.4275, 0.2510, 0.0902,\n",
              "           0.3020, 0.5098, 0.2824, 0.0588],\n",
              "          [0.0000, 0.0000, 0.0000, 0.0000, 0.0000, 0.0000, 0.0000, 0.0000,\n",
              "           0.0000, 0.0000, 0.0000, 0.0039, 0.0000, 0.2706, 0.8118, 0.8745,\n",
              "           0.8549, 0.8471, 0.8471, 0.6392, 0.4980, 0.4745, 0.4784, 0.5725,\n",
              "           0.5529, 0.3451, 0.6745, 0.2588],\n",
              "          [0.0000, 0.0000, 0.0000, 0.0000, 0.0000, 0.0000, 0.0000, 0.0000,\n",
              "           0.0000, 0.0039, 0.0039, 0.0039, 0.0000, 0.7843, 0.9098, 0.9098,\n",
              "           0.9137, 0.8980, 0.8745, 0.8745, 0.8431, 0.8353, 0.6431, 0.4980,\n",
              "           0.4824, 0.7686, 0.8980, 0.0000],\n",
              "          [0.0000, 0.0000, 0.0000, 0.0000, 0.0000, 0.0000, 0.0000, 0.0000,\n",
              "           0.0000, 0.0000, 0.0000, 0.0000, 0.0000, 0.7176, 0.8824, 0.8471,\n",
              "           0.8745, 0.8941, 0.9216, 0.8902, 0.8784, 0.8706, 0.8784, 0.8667,\n",
              "           0.8745, 0.9608, 0.6784, 0.0000],\n",
              "          [0.0000, 0.0000, 0.0000, 0.0000, 0.0000, 0.0000, 0.0000, 0.0000,\n",
              "           0.0000, 0.0000, 0.0000, 0.0000, 0.0000, 0.7569, 0.8941, 0.8549,\n",
              "           0.8353, 0.7765, 0.7059, 0.8314, 0.8235, 0.8275, 0.8353, 0.8745,\n",
              "           0.8627, 0.9529, 0.7922, 0.0000],\n",
              "          [0.0000, 0.0000, 0.0000, 0.0000, 0.0000, 0.0000, 0.0000, 0.0000,\n",
              "           0.0000, 0.0039, 0.0118, 0.0000, 0.0471, 0.8588, 0.8627, 0.8314,\n",
              "           0.8549, 0.7529, 0.6627, 0.8902, 0.8157, 0.8549, 0.8784, 0.8314,\n",
              "           0.8863, 0.7725, 0.8196, 0.2039],\n",
              "          [0.0000, 0.0000, 0.0000, 0.0000, 0.0000, 0.0000, 0.0000, 0.0000,\n",
              "           0.0000, 0.0000, 0.0235, 0.0000, 0.3882, 0.9569, 0.8706, 0.8627,\n",
              "           0.8549, 0.7961, 0.7765, 0.8667, 0.8431, 0.8353, 0.8706, 0.8627,\n",
              "           0.9608, 0.4667, 0.6549, 0.2196],\n",
              "          [0.0000, 0.0000, 0.0000, 0.0000, 0.0000, 0.0000, 0.0000, 0.0000,\n",
              "           0.0000, 0.0157, 0.0000, 0.0000, 0.2157, 0.9255, 0.8941, 0.9020,\n",
              "           0.8941, 0.9412, 0.9098, 0.8353, 0.8549, 0.8745, 0.9176, 0.8510,\n",
              "           0.8510, 0.8196, 0.3608, 0.0000],\n",
              "          [0.0000, 0.0000, 0.0039, 0.0157, 0.0235, 0.0275, 0.0078, 0.0000,\n",
              "           0.0000, 0.0000, 0.0000, 0.0000, 0.9294, 0.8863, 0.8510, 0.8745,\n",
              "           0.8706, 0.8588, 0.8706, 0.8667, 0.8471, 0.8745, 0.8980, 0.8431,\n",
              "           0.8549, 1.0000, 0.3020, 0.0000],\n",
              "          [0.0000, 0.0118, 0.0000, 0.0000, 0.0000, 0.0000, 0.0000, 0.0000,\n",
              "           0.0000, 0.2431, 0.5686, 0.8000, 0.8941, 0.8118, 0.8353, 0.8667,\n",
              "           0.8549, 0.8157, 0.8275, 0.8549, 0.8784, 0.8745, 0.8588, 0.8431,\n",
              "           0.8784, 0.9569, 0.6235, 0.0000],\n",
              "          [0.0000, 0.0000, 0.0000, 0.0000, 0.0706, 0.1725, 0.3216, 0.4196,\n",
              "           0.7412, 0.8941, 0.8627, 0.8706, 0.8510, 0.8863, 0.7843, 0.8039,\n",
              "           0.8275, 0.9020, 0.8784, 0.9176, 0.6902, 0.7373, 0.9804, 0.9725,\n",
              "           0.9137, 0.9333, 0.8431, 0.0000],\n",
              "          [0.0000, 0.2235, 0.7333, 0.8157, 0.8784, 0.8667, 0.8784, 0.8157,\n",
              "           0.8000, 0.8392, 0.8157, 0.8196, 0.7843, 0.6235, 0.9608, 0.7569,\n",
              "           0.8078, 0.8745, 1.0000, 1.0000, 0.8667, 0.9176, 0.8667, 0.8275,\n",
              "           0.8627, 0.9098, 0.9647, 0.0000],\n",
              "          [0.0118, 0.7922, 0.8941, 0.8784, 0.8667, 0.8275, 0.8275, 0.8392,\n",
              "           0.8039, 0.8039, 0.8039, 0.8627, 0.9412, 0.3137, 0.5882, 1.0000,\n",
              "           0.8980, 0.8667, 0.7373, 0.6039, 0.7490, 0.8235, 0.8000, 0.8196,\n",
              "           0.8706, 0.8941, 0.8824, 0.0000],\n",
              "          [0.3843, 0.9137, 0.7765, 0.8235, 0.8706, 0.8980, 0.8980, 0.9176,\n",
              "           0.9765, 0.8627, 0.7608, 0.8431, 0.8510, 0.9451, 0.2549, 0.2863,\n",
              "           0.4157, 0.4588, 0.6588, 0.8588, 0.8667, 0.8431, 0.8510, 0.8745,\n",
              "           0.8745, 0.8784, 0.8980, 0.1137],\n",
              "          [0.2941, 0.8000, 0.8314, 0.8000, 0.7569, 0.8039, 0.8275, 0.8824,\n",
              "           0.8471, 0.7255, 0.7725, 0.8078, 0.7765, 0.8353, 0.9412, 0.7647,\n",
              "           0.8902, 0.9608, 0.9373, 0.8745, 0.8549, 0.8314, 0.8196, 0.8706,\n",
              "           0.8627, 0.8667, 0.9020, 0.2627],\n",
              "          [0.1882, 0.7961, 0.7176, 0.7608, 0.8353, 0.7725, 0.7255, 0.7451,\n",
              "           0.7608, 0.7529, 0.7922, 0.8392, 0.8588, 0.8667, 0.8627, 0.9255,\n",
              "           0.8824, 0.8471, 0.7804, 0.8078, 0.7294, 0.7098, 0.6941, 0.6745,\n",
              "           0.7098, 0.8039, 0.8078, 0.4510],\n",
              "          [0.0000, 0.4784, 0.8588, 0.7569, 0.7020, 0.6706, 0.7176, 0.7686,\n",
              "           0.8000, 0.8235, 0.8353, 0.8118, 0.8275, 0.8235, 0.7843, 0.7686,\n",
              "           0.7608, 0.7490, 0.7647, 0.7490, 0.7765, 0.7529, 0.6902, 0.6118,\n",
              "           0.6549, 0.6941, 0.8235, 0.3608],\n",
              "          [0.0000, 0.0000, 0.2902, 0.7412, 0.8314, 0.7490, 0.6863, 0.6745,\n",
              "           0.6863, 0.7098, 0.7255, 0.7373, 0.7412, 0.7373, 0.7569, 0.7765,\n",
              "           0.8000, 0.8196, 0.8235, 0.8235, 0.8275, 0.7373, 0.7373, 0.7608,\n",
              "           0.7529, 0.8471, 0.6667, 0.0000],\n",
              "          [0.0078, 0.0000, 0.0000, 0.0000, 0.2588, 0.7843, 0.8706, 0.9294,\n",
              "           0.9373, 0.9490, 0.9647, 0.9529, 0.9569, 0.8667, 0.8627, 0.7569,\n",
              "           0.7490, 0.7020, 0.7137, 0.7137, 0.7098, 0.6902, 0.6510, 0.6588,\n",
              "           0.3882, 0.2275, 0.0000, 0.0000],\n",
              "          [0.0000, 0.0000, 0.0000, 0.0000, 0.0000, 0.0000, 0.0000, 0.1569,\n",
              "           0.2392, 0.1725, 0.2824, 0.1608, 0.1373, 0.0000, 0.0000, 0.0000,\n",
              "           0.0000, 0.0000, 0.0000, 0.0000, 0.0000, 0.0000, 0.0000, 0.0000,\n",
              "           0.0000, 0.0000, 0.0000, 0.0000],\n",
              "          [0.0000, 0.0000, 0.0000, 0.0000, 0.0000, 0.0000, 0.0000, 0.0000,\n",
              "           0.0000, 0.0000, 0.0000, 0.0000, 0.0000, 0.0000, 0.0000, 0.0000,\n",
              "           0.0000, 0.0000, 0.0000, 0.0000, 0.0000, 0.0000, 0.0000, 0.0000,\n",
              "           0.0000, 0.0000, 0.0000, 0.0000],\n",
              "          [0.0000, 0.0000, 0.0000, 0.0000, 0.0000, 0.0000, 0.0000, 0.0000,\n",
              "           0.0000, 0.0000, 0.0000, 0.0000, 0.0000, 0.0000, 0.0000, 0.0000,\n",
              "           0.0000, 0.0000, 0.0000, 0.0000, 0.0000, 0.0000, 0.0000, 0.0000,\n",
              "           0.0000, 0.0000, 0.0000, 0.0000]]]),\n",
              " 9)"
            ]
          },
          "metadata": {},
          "execution_count": 27
        }
      ]
    },
    {
      "cell_type": "code",
      "source": [
        "class_name= train_data.classes\n",
        "class_name"
      ],
      "metadata": {
        "colab": {
          "base_uri": "https://localhost:8080/"
        },
        "id": "asUKgaBEB9ri",
        "outputId": "ebf4ea81-4714-4aec-94b1-724fe5ccae7e"
      },
      "id": "asUKgaBEB9ri",
      "execution_count": 28,
      "outputs": [
        {
          "output_type": "execute_result",
          "data": {
            "text/plain": [
              "['T-shirt/top',\n",
              " 'Trouser',\n",
              " 'Pullover',\n",
              " 'Dress',\n",
              " 'Coat',\n",
              " 'Sandal',\n",
              " 'Shirt',\n",
              " 'Sneaker',\n",
              " 'Bag',\n",
              " 'Ankle boot']"
            ]
          },
          "metadata": {},
          "execution_count": 28
        }
      ]
    },
    {
      "cell_type": "code",
      "source": [
        "class_to_idx=train_data.class_to_idx\n",
        "class_to_idx"
      ],
      "metadata": {
        "colab": {
          "base_uri": "https://localhost:8080/"
        },
        "id": "fDi3QvQbCHBL",
        "outputId": "360b35e5-921c-4660-982d-149e5d5419ac"
      },
      "id": "fDi3QvQbCHBL",
      "execution_count": 29,
      "outputs": [
        {
          "output_type": "execute_result",
          "data": {
            "text/plain": [
              "{'T-shirt/top': 0,\n",
              " 'Trouser': 1,\n",
              " 'Pullover': 2,\n",
              " 'Dress': 3,\n",
              " 'Coat': 4,\n",
              " 'Sandal': 5,\n",
              " 'Shirt': 6,\n",
              " 'Sneaker': 7,\n",
              " 'Bag': 8,\n",
              " 'Ankle boot': 9}"
            ]
          },
          "metadata": {},
          "execution_count": 29
        }
      ]
    },
    {
      "cell_type": "code",
      "source": [
        "# checking image shape and image label\n",
        "print(f\"Image shape : {image.shape} -> [color_channel,height,width]\")\n",
        "print(f\"Image label : {class_name[label]}\")"
      ],
      "metadata": {
        "colab": {
          "base_uri": "https://localhost:8080/"
        },
        "id": "UqgSvAwNCcAL",
        "outputId": "b43a7a1d-4c39-4046-f8dd-9026ca609b58"
      },
      "id": "UqgSvAwNCcAL",
      "execution_count": 30,
      "outputs": [
        {
          "output_type": "stream",
          "name": "stdout",
          "text": [
            "Image shape : torch.Size([1, 28, 28]) -> [color_channel,height,width]\n",
            "Image label : Ankle boot\n"
          ]
        }
      ]
    },
    {
      "cell_type": "markdown",
      "source": [
        "timestamp: 14:37:10 - 15:01:33\n",
        "\n",
        "### Visualising random samples of data\n",
        "\n"
      ],
      "metadata": {
        "id": "yFxzt3OYDBtt"
      },
      "id": "yFxzt3OYDBtt"
    },
    {
      "cell_type": "code",
      "source": [
        "import matplotlib.pyplot as plt\n",
        "image,label = train_data[0]\n",
        "print(f\"image shape : {image.shape}\")\n",
        "plt.imshow(image.squeeze())"
      ],
      "metadata": {
        "colab": {
          "base_uri": "https://localhost:8080/",
          "height": 465
        },
        "id": "ps6Tn_IeDAM0",
        "outputId": "9bce09aa-735a-4b15-aee4-52b79c0010ce"
      },
      "id": "ps6Tn_IeDAM0",
      "execution_count": 31,
      "outputs": [
        {
          "output_type": "stream",
          "name": "stdout",
          "text": [
            "image shape : torch.Size([1, 28, 28])\n"
          ]
        },
        {
          "output_type": "execute_result",
          "data": {
            "text/plain": [
              "<matplotlib.image.AxesImage at 0x796a65e5a090>"
            ]
          },
          "metadata": {},
          "execution_count": 31
        },
        {
          "output_type": "display_data",
          "data": {
            "text/plain": [
              "<Figure size 640x480 with 1 Axes>"
            ],
            "image/png": "[encoded data removed]"
          },
          "metadata": {}
        }
      ]
    },
    {
      "cell_type": "code",
      "source": [
        "plt.imshow(image.squeeze(),cmap='gray')\n",
        "plt.title(class_name[label])\n",
        "plt.axis(False)"
      ],
      "metadata": {
        "colab": {
          "base_uri": "https://localhost:8080/",
          "height": 445
        },
        "id": "Nc-dDab6EIge",
        "outputId": "2031f58e-f0d2-42c0-83c8-c8e40aab415b"
      },
      "id": "Nc-dDab6EIge",
      "execution_count": 32,
      "outputs": [
        {
          "output_type": "execute_result",
          "data": {
            "text/plain": [
              "(np.float64(-0.5), np.float64(27.5), np.float64(27.5), np.float64(-0.5))"
            ]
          },
          "metadata": {},
          "execution_count": 32
        },
        {
          "output_type": "display_data",
          "data": {
            "text/plain": [
              "<Figure size 640x480 with 1 Axes>"
            ],
            "image/png": "[encoded data removed]"
          },
          "metadata": {}
        }
      ]
    },
    {
      "cell_type": "code",
      "source": [
        "#ploting some more data\n",
        "# torch.manual_seed(42)\n",
        "fig=plt.figure(figsize=(9,9))\n",
        "rows,cols =4,4\n",
        "for i in range(1,rows*cols+1):\n",
        "  random_idx= torch.randint(0,len(train_data),size=[1]).item()\n",
        "  # print(random_idx)\n",
        "  img,label=train_data[random_idx]\n",
        "  fig.add_subplot(rows,cols,i)\n",
        "  plt.imshow(img.squeeze(),cmap=\"gray\")\n",
        "  plt.title(class_name[label])\n",
        "  plt.axis(False)"
      ],
      "metadata": {
        "colab": {
          "base_uri": "https://localhost:8080/",
          "height": 664
        },
        "id": "HzhEBnLTEcDD",
        "outputId": "9d3a6f89-c373-4051-82dc-5c689915d5c3"
      },
      "id": "HzhEBnLTEcDD",
      "execution_count": 33,
      "outputs": [
        {
          "output_type": "display_data",
          "data": {
            "text/plain": [
              "<Figure size 900x900 with 16 Axes>"
            ],
            "image/png": "[encoded data removed]"
          },
          "metadata": {}
        }
      ]
    },
    {
      "cell_type": "markdown",
      "source": [
        "timestamp: 15:01:34 - 15:21:16\n",
        "### DataLoader overview and understanding mini batches\n",
        "\n",
        "* *DataLoader turns dataset into Python iterable*\n",
        "\n",
        "* *We will do it using mini batches*\n",
        "\n",
        "* *Reasons for using mini batches::*\n",
        "  1. *It is more computationlly efficient.*\n",
        "  2. *It gives our neural network more chances to update its gradient per epoch*"
      ],
      "metadata": {
        "id": "IjfwzbcABM6a"
      },
      "id": "IjfwzbcABM6a"
    },
    {
      "cell_type": "code",
      "source": [
        "from torch.utils.data import DataLoader\n",
        "\n",
        "#setting up batchsize\n",
        "BATCH_SIZE = 32\n",
        "\n",
        "# turning data in batches\n",
        "train_dataloader=DataLoader(dataset=train_data,\n",
        "                     batch_size=BATCH_SIZE,\n",
        "                            shuffle=True)\n",
        "test_dataloader=DataLoader(dataset=test_data,\n",
        "                     batch_size=BATCH_SIZE,\n",
        "                            shuffle=False)\n",
        "\n",
        "train_dataloader,test_dataloader"
      ],
      "metadata": {
        "id": "SuzIDaaKBdph",
        "outputId": "c4afe76a-df5c-425a-c295-f813b36fb8c6",
        "colab": {
          "base_uri": "https://localhost:8080/"
        }
      },
      "id": "SuzIDaaKBdph",
      "execution_count": 34,
      "outputs": [
        {
          "output_type": "execute_result",
          "data": {
            "text/plain": [
              "(<torch.utils.data.dataloader.DataLoader at 0x796a659ada90>,\n",
              " <torch.utils.data.dataloader.DataLoader at 0x796a737aa250>)"
            ]
          },
          "metadata": {},
          "execution_count": 34
        }
      ]
    },
    {
      "cell_type": "code",
      "source": [
        "# printintg what's we have created\n",
        "print(f\"DataLoaders: {train_dataloader,test_dataloader}\")\n",
        "print(f\"Length of train_dataloader : {len(train_dataloader)} batches of {BATCH_SIZE}\")\n",
        "print(f\"Length of test_dataloader : {len(test_dataloader)} batches of {BATCH_SIZE}\")"
      ],
      "metadata": {
        "id": "t8TiF4XFCsuZ",
        "outputId": "4a9b7f4a-3a20-4590-bba1-d2a4b54b240c",
        "colab": {
          "base_uri": "https://localhost:8080/"
        }
      },
      "id": "t8TiF4XFCsuZ",
      "execution_count": 35,
      "outputs": [
        {
          "output_type": "stream",
          "name": "stdout",
          "text": [
            "DataLoaders: (<torch.utils.data.dataloader.DataLoader object at 0x796a659ada90>, <torch.utils.data.dataloader.DataLoader object at 0x796a737aa250>)\n",
            "Length of train_dataloader : 1875 batches of 32\n",
            "Length of test_dataloader : 313 batches of 32\n"
          ]
        }
      ]
    },
    {
      "cell_type": "code",
      "source": [
        "train_features_batch,train_labels_batch =next(iter(train_dataloader))\n",
        "train_features_batch.shape,train_labels_batch.shape"
      ],
      "metadata": {
        "id": "0bUW-rSrD61G",
        "outputId": "a69f218c-5ed8-499f-9de3-46c1f7f59ad2",
        "colab": {
          "base_uri": "https://localhost:8080/"
        }
      },
      "id": "0bUW-rSrD61G",
      "execution_count": 36,
      "outputs": [
        {
          "output_type": "execute_result",
          "data": {
            "text/plain": [
              "(torch.Size([32, 1, 28, 28]), torch.Size([32]))"
            ]
          },
          "metadata": {},
          "execution_count": 36
        }
      ]
    },
    {
      "cell_type": "code",
      "source": [
        "#showing a sample\n",
        "# torch.manual_seed(42)\n",
        "random_idx= torch.randint(0,len(train_features_batch),size=[1]).item()\n",
        "img,label=train_features_batch[random_idx], train_labels_batch[random_idx]\n",
        "plt.imshow(img.squeeze(),cmap=\"gray\")\n",
        "plt.title(class_name[label])\n",
        "plt.axis(False)\n",
        "print(f\"Image size : {img.shape}\")\n",
        "print(f\"Label : {label} , label size : {label.shape}\")"
      ],
      "metadata": {
        "id": "27zP7vSyDn6e",
        "outputId": "2e8d7faa-d471-4fc7-d5c4-94cdc894153b",
        "colab": {
          "base_uri": "https://localhost:8080/",
          "height": 463
        }
      },
      "id": "27zP7vSyDn6e",
      "execution_count": 37,
      "outputs": [
        {
          "output_type": "stream",
          "name": "stdout",
          "text": [
            "Image size : torch.Size([1, 28, 28])\n",
            "Label : 6 , label size : torch.Size([])\n"
          ]
        },
        {
          "output_type": "display_data",
          "data": {
            "text/plain": [
              "<Figure size 640x480 with 1 Axes>"
            ],
            "image/png": "[encoded data removed]"
          },
          "metadata": {}
        }
      ]
    },
    {
      "cell_type": "markdown",
      "source": [
        "timestamp:  15:21:16 - 15:35:55\n",
        "### Model_0 : creating a baseline with 2 linear layer\n",
        "### Model_0 : The baseline model\n",
        "* *We'll be building a baseline model. it is a simple model we'll try nad improve upon with subsequent models/experiments*\n",
        "\n",
        "* *In other words: Start simply nad adds complexity as necessary*\n",
        "\n",
        "\n"
      ],
      "metadata": {
        "id": "VdZ8_RAqGFFF"
      },
      "id": "VdZ8_RAqGFFF"
    },
    {
      "cell_type": "code",
      "source": [
        "# Creating a flatten layer\n",
        "flatten_model = nn.Flatten()\n",
        "\n",
        "#getting a simgle sample\n",
        "x=train_features_batch[0]\n",
        "\n",
        "#Flatten the sample\n",
        "\n",
        "output=flatten_model(x) #forward pass\n",
        "\n",
        "# printing what happen\n",
        "print(f\"Shape before flattening : {x.shape}\")\n",
        "print(f\"Shape after flattening : {output.shape}\")"
      ],
      "metadata": {
        "id": "aCLQRvriGEeR",
        "outputId": "9d914782-a72d-4f74-9382-214dbd5198b3",
        "colab": {
          "base_uri": "https://localhost:8080/"
        }
      },
      "id": "aCLQRvriGEeR",
      "execution_count": 38,
      "outputs": [
        {
          "output_type": "stream",
          "name": "stdout",
          "text": [
            "Shape before flattening : torch.Size([1, 28, 28])\n",
            "Shape after flattening : torch.Size([1, 784])\n"
          ]
        }
      ]
    },
    {
      "cell_type": "code",
      "source": [
        "from torch import nn\n",
        "class FashionMNISTModelV0(nn.Module):\n",
        "  def __init__(self,\n",
        "               input_shape:int,\n",
        "               hidden_units:int,\n",
        "               output_shape:int):\n",
        "    super().__init__()\n",
        "    self.layer_stack=nn.Sequential(\n",
        "        nn.Flatten(),\n",
        "        nn.Linear(in_features=input_shape,\n",
        "                  out_features=hidden_units),\n",
        "        nn.Linear(in_features=hidden_units,\n",
        "                  out_features=output_shape)\n",
        "    )\n",
        "  def forward(self,x):\n",
        "      return self.layer_stack(x)"
      ],
      "metadata": {
        "id": "rMnqEkr7JGZD"
      },
      "id": "rMnqEkr7JGZD",
      "execution_count": 39,
      "outputs": []
    },
    {
      "cell_type": "code",
      "source": [
        "torch.manual_seed(42)\n",
        "\n",
        "# Setup model input parameters\n",
        "model_0=FashionMNISTModelV0(\n",
        "    input_shape=784,# this is 28*28\n",
        "    hidden_units=10,# number of units in hidden layer\n",
        "    output_shape=len(class_name)\n",
        ").to(\"cpu\")\n",
        "\n",
        "model_0"
      ],
      "metadata": {
        "id": "61VA3bmlKL_B",
        "outputId": "d29f5e3c-8503-483a-f934-51417ec45d3d",
        "colab": {
          "base_uri": "https://localhost:8080/"
        }
      },
      "id": "61VA3bmlKL_B",
      "execution_count": 40,
      "outputs": [
        {
          "output_type": "execute_result",
          "data": {
            "text/plain": [
              "FashionMNISTModelV0(\n",
              "  (layer_stack): Sequential(\n",
              "    (0): Flatten(start_dim=1, end_dim=-1)\n",
              "    (1): Linear(in_features=784, out_features=10, bias=True)\n",
              "    (2): Linear(in_features=10, out_features=10, bias=True)\n",
              "  )\n",
              ")"
            ]
          },
          "metadata": {},
          "execution_count": 40
        }
      ]
    },
    {
      "cell_type": "code",
      "source": [
        "dummy_x = torch.rand(1,1,28,28)\n",
        "model_0(dummy_x)"
      ],
      "metadata": {
        "id": "rPOy4r4OK33a",
        "outputId": "2bed026b-ab86-4b71-e795-3269ec7789db",
        "colab": {
          "base_uri": "https://localhost:8080/"
        }
      },
      "id": "rPOy4r4OK33a",
      "execution_count": 41,
      "outputs": [
        {
          "output_type": "execute_result",
          "data": {
            "text/plain": [
              "tensor([[-0.0315,  0.3171,  0.0531, -0.2525,  0.5959,  0.2112,  0.3233,  0.2694,\n",
              "         -0.1004,  0.0157]], grad_fn=<AddmmBackward0>)"
            ]
          },
          "metadata": {},
          "execution_count": 41
        }
      ]
    },
    {
      "cell_type": "markdown",
      "source": [
        "timestamp: 15:35:56 - 15:46:25\n",
        "### Model_0 : creating a loss function and optimizer\n",
        "\n",
        "* *Loss function: We'll use nn.CrossEntropyLoss() as we are working woth multi-class data*\n",
        "* *Optimizer - our optimizer will be torch.optim.SGD()*\n",
        "* *We'll use accuracy as our Evaluation metric.*"
      ],
      "metadata": {
        "id": "gJL9E77YWRqu"
      },
      "id": "gJL9E77YWRqu"
    },
    {
      "cell_type": "code",
      "source": [
        "import requests\n",
        "from pathlib import Path\n",
        "\n",
        "#download helper function from Learn PyTorch repo(if it's not downloaded)\n",
        "if Path(\"helper_functions.py\").is_file():\n",
        "    print(\"Helper function already exists skipping download\")\n",
        "\n",
        "else:\n",
        "    print(\"Downloading helper_function.py\")\n",
        "    request = requests.get(\"https://raw.githubusercontent.com/mrdbourke/pytorch-deep-learning/main/helper_functions.py\")\n",
        "    with open(\"helper_functions.py\", \"wb\") as f:\n",
        "        f.write(request.content)\n",
        "\n",
        "    # from helper_functions import plot_predictions, plot_decision_boundary\n"
      ],
      "metadata": {
        "id": "hmtyEduSX075",
        "outputId": "01385456-c3e3-4074-e2c6-bfa5eddd2c13",
        "colab": {
          "base_uri": "https://localhost:8080/"
        }
      },
      "id": "hmtyEduSX075",
      "execution_count": 42,
      "outputs": [
        {
          "output_type": "stream",
          "name": "stdout",
          "text": [
            "Helper function already exists skipping download\n"
          ]
        }
      ]
    },
    {
      "cell_type": "code",
      "source": [
        "#importing accuracy matric\n",
        "from helper_functions import accuracy_fn\n",
        "\n",
        "#setting up loss functiona and optimizer\n",
        "loss_fn =nn.CrossEntropyLoss()\n",
        "optimizer= torch.optim.SGD(params=model_0.parameters(),\n",
        "                           lr=0.1)\n"
      ],
      "metadata": {
        "id": "YQrln5OfaTes"
      },
      "id": "YQrln5OfaTes",
      "execution_count": 43,
      "outputs": []
    },
    {
      "cell_type": "markdown",
      "source": [
        "timestamp: - 15:46:26 - 15:51:59\n",
        "### Creatinga function to time our modelling code\n",
        "\n",
        "*Machine learning is very experimental.*\n",
        "\n",
        "*Two of main things you'll often want to track are :*\n",
        "1. *Model's performance (loss and accuracy value etc.)*\n",
        "2. *How fast it runs*\n"
      ],
      "metadata": {
        "id": "zdwHvmNSZRUZ"
      },
      "id": "zdwHvmNSZRUZ"
    },
    {
      "cell_type": "code",
      "source": [
        "from timeit  import default_timer as timer\n",
        "def print_train_time(start: float,\n",
        "                     end:float,\n",
        "                     device: torch.device = None):\n",
        "  \"\"\"Prints difference b/w start and end time\"\"\"\n",
        "  total_time =end -start\n",
        "  print(f\"Train time start on : {total_time : .3f} seconds\")\n",
        "\n",
        "  return total_time"
      ],
      "metadata": {
        "id": "V-PKcUy5aC5-"
      },
      "id": "V-PKcUy5aC5-",
      "execution_count": 45,
      "outputs": []
    },
    {
      "cell_type": "code",
      "source": [
        "start_time = timer()\n",
        "# some code here\n",
        "end_time =timer()\n",
        "print_train_time(start=start_time,end=end_time,device='cpu')"
      ],
      "metadata": {
        "id": "Ax39ih09bE9b",
        "outputId": "9460e24d-cc32-4a7e-c774-81f9a0938db7",
        "colab": {
          "base_uri": "https://localhost:8080/"
        }
      },
      "id": "Ax39ih09bE9b",
      "execution_count": 46,
      "outputs": [
        {
          "output_type": "stream",
          "name": "stdout",
          "text": [
            "Train time start on :  0.000 seconds\n"
          ]
        },
        {
          "output_type": "execute_result",
          "data": {
            "text/plain": [
              "2.5723999897309113e-05"
            ]
          },
          "metadata": {},
          "execution_count": 46
        }
      ]
    },
    {
      "cell_type": "markdown",
      "source": [
        "timestamp:  15:52:00 -\n",
        "### Writing training and testing loops for our batched data\n",
        "\n",
        "### training a model using batched data\n",
        "\n",
        "1. *Loop through epochs.*\n",
        "2. *Loop through training batches, perform training steps, calculate the train loss per batch.*\n",
        "3. *Loop through testing batches, perform testing steps and calculate the test loss per batch.*\n",
        "4. *Print out what's happening.*\n",
        "4. *Time it all.*"
      ],
      "metadata": {
        "id": "k5ntvd8GbrpH"
      },
      "id": "k5ntvd8GbrpH"
    },
    {
      "cell_type": "code",
      "source": [
        "# import tqdm for progress bar\n",
        "from tqdm.auto import tqdm\n",
        "\n",
        "# set the seed and start the timer\n",
        "torch.manual_seed(42)\n",
        "train_time_start_on_cpu=timer()\n",
        "\n",
        "# set the epochs  we'll keep it small\n",
        "\n",
        "epochs = 3\n",
        "\n",
        "#creating a training and  testing loop\n",
        "\n",
        "for epoch in tqdm(range(epochs)):\n",
        "  print(f\"Epoch : {epoch}\\n-----\")\n",
        "  ## training\n",
        "  train_loss=0\n",
        "  #add a loop to loop through the training batched\n",
        "  for batch,(X,y) in enumerate(train_dataloader):\n",
        "    model_0.train()\n",
        "    # 1. forward pass\n",
        "    y_pred = model_0(X)\n",
        "    # 2. calculate the loss\n",
        "    loss=loss_fn(y_pred,y)\n",
        "    train_loss+= loss\n",
        "    # 3. optimizer zero grad\n",
        "    optimizer.zero_grad()\n",
        "    # 4. loss backwards\n",
        "    loss.backward()\n",
        "    # 5. optimizer step\n",
        "    optimizer.step()\n",
        "\n",
        "    # prints whats happening\n",
        "    if(batch %400 ==0):\n",
        "      print(f\"Looked at {batch*len(X)/len(train_dataloader.dataset)} samples.\")\n",
        "\n",
        "    # divide total train loss by length of train dataloader\n",
        "    train_loss/= len(train_dataloader)\n",
        "\n",
        "    ## testing\n",
        "    test_loss,test_acc=0,0\n",
        "    model_0.eval()\n",
        "    with torch.inference_mode():\n",
        "      for X_test,y_test in test_dataloader:\n",
        "        # forward pass\n",
        "        test_pred = model_0(X_test)\n",
        "\n",
        "        # calculate the loss\n",
        "        test_loss+=loss_fn(test_pred,y_test)\n",
        "\n",
        "        test_acc += accuracy_fn(y_true=y_test,y_pred=test_pred.argmax(dim=1))\n",
        "  # calculate the test loss average per batch\n",
        "    test_loss/=len(test_dataloader)\n",
        "  # calculate the test acc average per batch\n",
        "    test_acc/= len(test_dataloader)\n",
        "\n",
        "  # print out whats happening\n",
        "  print(f\"\\n train loss : {train_loss:.4f} | test loss :{test_loss: .4f}, Test acc: {test_acc: .4f}\")\n",
        "\n",
        "\n",
        "#calculatin the training time\n",
        "train_time_end_on_cpu=timer()\n",
        "\n",
        "total_train_time_model_0 = print_train_time(start=train_time_start_on_cpu,\n",
        "                                            end=train_time_end_on_cpu,\n",
        "                                            device=str(next(model_0.parameters()).device))\n"
      ],
      "metadata": {
        "id": "UDXAfVw9bp33"
      },
      "id": "UDXAfVw9bp33",
      "execution_count": null,
      "outputs": []
    },
    {
      "cell_type": "code",
      "source": [
        "next(model_0.parameters()).device"
      ],
      "metadata": {
        "id": "r97opfXDicrP",
        "outputId": "f89f5b43-196a-421f-ca8f-023c2951e979",
        "colab": {
          "base_uri": "https://localhost:8080/"
        }
      },
      "id": "r97opfXDicrP",
      "execution_count": 48,
      "outputs": [
        {
          "output_type": "execute_result",
          "data": {
            "text/plain": [
              "device(type='cpu')"
            ]
          },
          "metadata": {},
          "execution_count": 48
        }
      ]
    }
  ],
  "metadata": {
    "kernelspec": {
      "display_name": "Python 3",
      "name": "python3"
    },
    "language_info": {
      "codemirror_mode": {
        "name": "ipython",
        "version": 3
      },
      "file_extension": ".py",
      "mimetype": "text/x-python",
      "name": "python",
      "nbconvert_exporter": "python",
      "pygments_lexer": "ipython3",
      "version": "3.13.4"
    },
    "colab": {
      "provenance": [],
      "gpuType": "T4"
    },
    "accelerator": "GPU"
  },
  "nbformat": 4,
  "nbformat_minor": 5
}