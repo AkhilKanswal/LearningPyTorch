{
  "cells": [
    {
      "cell_type": "markdown",
      "source": [
        "timestamp: 14:00:48 - 14:12:36\n",
        "\n",
        "# Computer Vision and Convolution Neural Network with PyTorch\n",
        "\n",
        "***\n",
        "### Introduction\n",
        "***\n",
        "* *Computer vision can be used for various problems such as: *\n",
        "  - *Binary classification*\n",
        "  - *Multi class Classification*\n",
        "  - *Object Detection*\n",
        "  - *Segmentation*"
      ],
      "metadata": {
        "id": "kGRjhbKb0QjM"
      },
      "id": "kGRjhbKb0QjM"
    },
    {
      "cell_type": "markdown",
      "source": [
        "timestamp: 14:12:38\n",
        "\n",
        "### Computer vision Input and output shape"
      ],
      "metadata": {
        "id": "ByrF93O22IAp"
      },
      "id": "ByrF93O22IAp"
    },
    {
      "cell_type": "code",
      "source": [],
      "metadata": {
        "id": "5w1zMxX92a6u"
      },
      "id": "5w1zMxX92a6u",
      "execution_count": null,
      "outputs": []
    }
  ],
  "metadata": {
    "kernelspec": {
      "display_name": "Python 3",
      "language": "python",
      "name": "python3"
    },
    "language_info": {
      "codemirror_mode": {
        "name": "ipython",
        "version": 3
      },
      "file_extension": ".py",
      "mimetype": "text/x-python",
      "name": "python",
      "nbconvert_exporter": "python",
      "pygments_lexer": "ipython3",
      "version": "3.13.4"
    },
    "colab": {
      "provenance": []
    }
  },
  "nbformat": 4,
  "nbformat_minor": 5
}