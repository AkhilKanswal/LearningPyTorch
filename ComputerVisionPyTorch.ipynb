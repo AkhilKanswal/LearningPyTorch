{
  "cells": [
    {
      "cell_type": "markdown",
      "source": [
        "timestamp: 14:00:48 - 14:12:36\n",
        "\n",
        "# Computer Vision and Convolution Neural Network with PyTorch\n",
        "\n",
        "***\n",
        "### Introduction\n",
        "***\n",
        "* *Computer vision can be used for various problems such as: *\n",
        "  - *Binary classification*\n",
        "  - *Multi class Classification*\n",
        "  - *Object Detection*\n",
        "  - *Segmentation*"
      ],
      "metadata": {
        "id": "kGRjhbKb0QjM"
      },
      "id": "kGRjhbKb0QjM"
    },
    {
      "cell_type": "markdown",
      "source": [
        "timestamp: 14:12:38 - 14:27:48\n",
        "\n",
        "### Computer vision Input and output shape"
      ],
      "metadata": {
        "id": "ByrF93O22IAp"
      },
      "id": "ByrF93O22IAp"
    },
    {
      "cell_type": "markdown",
      "source": [
        "Image data is represented in form of :\n",
        "* [batch_size,color_channel,height,wigth]\n",
        "              OR\n",
        "\n",
        "* [batch_size,height,wigth,color_channel]   \n",
        "\n",
        "* *We generally use convulational neural network for image  processing and computer vision problems*\n",
        "\n",
        "* *We can stack layers of CNN in any order we want or as per the problem*"
      ],
      "metadata": {
        "id": "X6ScB3ypfRmg"
      },
      "id": "X6ScB3ypfRmg"
    },
    {
      "cell_type": "markdown",
      "source": [
        "timestamp: 14:27:49 - 14:37:10\n",
        "\n",
        "### Importing PyTorch's Computer vision library **TorchVision**\n",
        "\n",
        "### *Getting started with Computer vision with pytorch*\n",
        "\n",
        "*Computer vision Libraries in PyTorch:*\n",
        "- $1. torchvision$\n",
        "- $2. torchvision.dataset$\n",
        "- $3. torchvision.models$\n",
        "- $4. torchvision.transforms$\n",
        "- $5. torch.utils.data.Dataset$\n",
        "- $5. torch.utils.data.DataLoader$\n",
        "\n"
      ],
      "metadata": {
        "id": "7x1CSGUTgtIa"
      },
      "id": "7x1CSGUTgtIa"
    },
    {
      "cell_type": "code",
      "source": [
        "# getting started with Computer vision with pytorch\n",
        "\n",
        "import torch\n",
        "from torch import nn\n",
        "\n",
        "\n",
        "# importing torchvision\n",
        "import torchvision\n",
        "from torchvision import datasets\n",
        "from torchvision import transforms\n",
        "from torchvision.transforms import ToTensor\n",
        "\n",
        "\n",
        "#importing matplotlib\n",
        "import matplotlib.pyplot as plt\n",
        "\n",
        "\n",
        "print(torch.__version__)\n",
        "print(torchvision.__version__)"
      ],
      "metadata": {
        "id": "apVkErA8f353",
        "outputId": "35f0fec4-6493-429e-c65d-54edff9ecacb",
        "colab": {
          "base_uri": "https://localhost:8080/"
        }
      },
      "id": "apVkErA8f353",
      "execution_count": 6,
      "outputs": [
        {
          "output_type": "stream",
          "name": "stdout",
          "text": [
            "2.6.0+cu124\n",
            "0.21.0+cu124\n"
          ]
        }
      ]
    }
  ],
  "metadata": {
    "kernelspec": {
      "display_name": "Python 3",
      "name": "python3"
    },
    "language_info": {
      "codemirror_mode": {
        "name": "ipython",
        "version": 3
      },
      "file_extension": ".py",
      "mimetype": "text/x-python",
      "name": "python",
      "nbconvert_exporter": "python",
      "pygments_lexer": "ipython3",
      "version": "3.13.4"
    },
    "colab": {
      "provenance": [],
      "toc_visible": true
    }
  },
  "nbformat": 4,
  "nbformat_minor": 5
}