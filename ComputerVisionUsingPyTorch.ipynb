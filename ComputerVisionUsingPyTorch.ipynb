{
 "cells": [
  {
   "cell_type": "code",
   "execution_count": null,
   "id": "4423fc2e",
   "metadata": {},
   "outputs": [],
   "source": [
    "# getting started with computer vision"
   ]
  }
 ],
 "metadata": {
  "language_info": {
   "name": "python"
  }
 },
 "nbformat": 4,
 "nbformat_minor": 5
}
