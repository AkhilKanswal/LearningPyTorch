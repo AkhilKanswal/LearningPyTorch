{
 "cells": [
  {
   "cell_type": "markdown",
   "id": "564ba804",
   "metadata": {},
   "source": [
    "#### *Now we'll practise all that we have learned,going step by step just codeing for the time being with documentation within this notebook but not in other files.*"
   ]
  },
  {
   "cell_type": "markdown",
   "id": "58acb119",
   "metadata": {},
   "source": [
    "##### video timestamp : 7:38:25 - 8:27:57"
   ]
  },
  {
   "cell_type": "code",
   "execution_count": 1,
   "id": "33db2562",
   "metadata": {},
   "outputs": [
    {
     "data": {
      "text/plain": [
       "'2.7.0+cpu'"
      ]
     },
     "execution_count": 1,
     "metadata": {},
     "output_type": "execute_result"
    }
   ],
   "source": [
    "import torch\n",
    "from torch import nn\n",
    "import matplotlib.pyplot as plt\n",
    "\n",
    "#checking pytorch version\n",
    "torch.__version__"
   ]
  },
  {
   "cell_type": "code",
   "execution_count": 2,
   "id": "0c262a8b",
   "metadata": {},
   "outputs": [
    {
     "name": "stdout",
     "output_type": "stream",
     "text": [
      "using device : cpu\n"
     ]
    }
   ],
   "source": [
    "# creating device agnostics code \n",
    "device=\"cude\" if torch.cuda.is_available() else  \"cpu\"\n",
    "print(f\"using device : {device}\")"
   ]
  },
  {
   "cell_type": "markdown",
   "id": "8bf4f8c2",
   "metadata": {},
   "source": [
    "$1. Creating Data$"
   ]
  },
  {
   "cell_type": "code",
   "execution_count": 3,
   "id": "c715b009",
   "metadata": {},
   "outputs": [
    {
     "data": {
      "text/plain": [
       "(tensor([[0.0000],\n",
       "         [0.0200],\n",
       "         [0.0400],\n",
       "         [0.0600],\n",
       "         [0.0800],\n",
       "         [0.1000],\n",
       "         [0.1200],\n",
       "         [0.1400],\n",
       "         [0.1600],\n",
       "         [0.1800]]),\n",
       " tensor([[0.3000],\n",
       "         [0.3140],\n",
       "         [0.3280],\n",
       "         [0.3420],\n",
       "         [0.3560],\n",
       "         [0.3700],\n",
       "         [0.3840],\n",
       "         [0.3980],\n",
       "         [0.4120],\n",
       "         [0.4260]]))"
      ]
     },
     "execution_count": 3,
     "metadata": {},
     "output_type": "execute_result"
    }
   ],
   "source": [
    "#creating data using the linear formula\n",
    "weight=0.7\n",
    "bias=0.3\n",
    "\n",
    "# creating ranage\n",
    "start=0\n",
    "end=1\n",
    "step=0.02\n",
    "\n",
    "#creating X and Y\n",
    "X = torch.arange(start,end,step).unsqueeze(dim=1)\n",
    "Y = weight*X+ bias\n",
    "\n",
    "X[:10] ,Y[:10]"
   ]
  },
  {
   "cell_type": "code",
   "execution_count": 4,
   "id": "d446b804",
   "metadata": {},
   "outputs": [
    {
     "data": {
      "text/plain": [
       "(40, 40, 10, 10)"
      ]
     },
     "execution_count": 4,
     "metadata": {},
     "output_type": "execute_result"
    }
   ],
   "source": [
    "#spliting data into testing and training sets\n",
    "train_split=int(0.8*len(X))\n",
    "X_train,Y_train=X[:train_split],Y[:train_split]\n",
    "X_test,Y_test=X[train_split:],Y[train_split:]\n",
    " \n",
    "len(X_train),len(Y_train),len(X_test),len(Y_test)"
   ]
  },
  {
   "cell_type": "code",
   "execution_count": 5,
   "id": "face8085",
   "metadata": {},
   "outputs": [
    {
     "data": {
      "image/png": "[encoded data removed]",
      "text/plain": [
       "<Figure size 1000x700 with 1 Axes>"
      ]
     },
     "metadata": {},
     "output_type": "display_data"
    }
   ],
   "source": [
    "def plot_predictions(train_data=X_train,\n",
    "                     train_labels=Y_train,\n",
    "                     test_data=X_test,\n",
    "                     test_labels=Y_test,\n",
    "                     predictions=None):\n",
    "    \"\"\"\n",
    "    Plots training data, test data and compares predictions,\n",
    "    \"\"\"\n",
    "    \n",
    "    plt.figure(figsize=(10,7))\n",
    "    \n",
    "    #Plot training data in blue\n",
    "    plt.scatter(train_data,train_labels,c=\"b\",s=4, label=\"Training data\")\n",
    "    \n",
    "    #Plot test data in blue\n",
    "    plt.scatter(train_data,train_labels,c=\"g\",s=4, label=\"Testing data\")\n",
    "    \n",
    "    if predictions is not None:\n",
    "        #plot predictions if they appear\n",
    "        plt.scatter(test_data,predictions,c=\"r\",s=4,label=\"predictions\")\n",
    "    \n",
    "    #show the legends\n",
    "    plt.legend(prop={\"size\":14})\n",
    "    \n",
    "    \n",
    "    \n",
    "#plotting the data\n",
    "plot_predictions(X_train,Y_train,X_test,Y_test)"
   ]
  },
  {
   "cell_type": "markdown",
   "id": "fd03ce3a",
   "metadata": {},
   "source": [
    "$2.Building Linear Regression Model$"
   ]
  },
  {
   "cell_type": "code",
   "execution_count": null,
   "id": "0e323f8c",
   "metadata": {},
   "outputs": [
    {
     "data": {
      "text/plain": [
       "(LinearRegressionModelV2(\n",
       "   (linear_layer): Linear(in_features=1, out_features=1, bias=True)\n",
       " ),\n",
       " OrderedDict([('linear_layer.weight', tensor([[0.7645]])),\n",
       "              ('linear_layer.bias', tensor([0.8300]))]))"
      ]
     },
     "execution_count": 6,
     "metadata": {},
     "output_type": "execute_result"
    }
   ],
   "source": [
    "#cerating a linear model by subclassing nn.module\n",
    "\n",
    "class LinearRegressionModelV2(nn.Module):\n",
    "    def __init__(self):\n",
    "        super().__init__()\n",
    "        #We'll use nn.Linear\n",
    "        self.linear_layer=nn.Linear(in_features=1,\n",
    "                                    out_features=1)\n",
    "        \n",
    "    def forward(self,x:torch.Tensor)->torch.Tensor:\n",
    "        return self.linear_layer(x)\n",
    "    \n",
    "#set manual seed\n",
    "torch.manual_seed(42)\n",
    "model_1=LinearRegressionModelV2()\n",
    "model_1, model_1.state_dict()\n"
   ]
  },
  {
   "cell_type": "markdown",
   "id": "a432748b",
   "metadata": {},
   "source": [
    "$3.Training The Model$"
   ]
  },
  {
   "cell_type": "code",
   "execution_count": 9,
   "id": "5e1b1b95",
   "metadata": {},
   "outputs": [],
   "source": [
    "\"\"\"\n",
    "for training we need :\n",
    "1. Loss function\n",
    "2. Optimizer\n",
    "3. Training Loop\n",
    "4. Testing loop\n",
    "\"\"\"\n",
    "\n",
    "#setting up loss function\n",
    "loss_fn=nn.L1Loss()\n",
    "\n",
    "#setting up optimimzer\n",
    "optimizer=torch.optim.SGD(params=model_1.parameters(),\n",
    "                      lr=0.01,)\n"
   ]
  },
  {
   "cell_type": "code",
   "execution_count": 11,
   "id": "057a479d",
   "metadata": {},
   "outputs": [
    {
     "name": "stdout",
     "output_type": "stream",
     "text": [
      "Epoch: 0 |Loss :0.5436569452285767 | Test loss:0.5605052709579468\n",
      "Epoch: 10 |Loss :0.42844706773757935 | Test loss:0.42579537630081177\n",
      "Epoch: 20 |Loss :0.31323719024658203 | Test loss:0.2910855710506439\n",
      "Epoch: 30 |Loss :0.1980273276567459 | Test loss:0.1563757359981537\n",
      "Epoch: 40 |Loss :0.0828174576163292 | Test loss:0.021665919572114944\n",
      "Epoch: 50 |Loss :0.023356426507234573 | Test loss:0.048834484070539474\n",
      "Epoch: 60 |Loss :0.019609849900007248 | Test loss:0.04538799077272415\n",
      "Epoch: 70 |Loss :0.01618141308426857 | Test loss:0.03711546212434769\n",
      "Epoch: 80 |Loss :0.012742981314659119 | Test loss:0.028842901811003685\n",
      "Epoch: 90 |Loss :0.0093079237267375 | Test loss:0.02125726267695427\n",
      "Epoch: 100 |Loss :0.005878164432942867 | Test loss:0.012984687462449074\n",
      "Epoch: 110 |Loss :0.002439356641843915 | Test loss:0.004712158348411322\n",
      "Epoch: 120 |Loss :0.010256484150886536 | Test loss:0.0003308236482553184\n",
      "Epoch: 130 |Loss :0.010256484150886536 | Test loss:0.0003308236482553184\n",
      "Epoch: 140 |Loss :0.010256484150886536 | Test loss:0.0003308236482553184\n",
      "Epoch: 150 |Loss :0.010256484150886536 | Test loss:0.0003308236482553184\n",
      "Epoch: 160 |Loss :0.010256484150886536 | Test loss:0.0003308236482553184\n",
      "Epoch: 170 |Loss :0.010256484150886536 | Test loss:0.0003308236482553184\n",
      "Epoch: 180 |Loss :0.010256484150886536 | Test loss:0.0003308236482553184\n",
      "Epoch: 190 |Loss :0.010256484150886536 | Test loss:0.0003308236482553184\n"
     ]
    }
   ],
   "source": [
    "#training and testing loop\n",
    "torch.manual_seed(42)\n",
    "epochs=200\n",
    "\n",
    "for epoch in range(epochs):\n",
    "    model_1.train()\n",
    "    \n",
    "    # 1.forward pass\n",
    "    y_pred=model_1(X_train)\n",
    "    \n",
    "    # 2. calculate loss\n",
    "    loss=loss_fn(y_pred,Y_train)\n",
    "    \n",
    "    # 3.optimizer\n",
    "    optimizer.zero_grad()\n",
    "    \n",
    "    # 4. perform backpropogation\n",
    "    loss.backward()\n",
    "    \n",
    "    # 5. Optimizer step\n",
    "    optimizer.step()\n",
    "    \n",
    "    \n",
    "    #testing\n",
    "    \n",
    "    model_1.eval()\n",
    "    with torch.inference_mode():\n",
    "        test_pred=model_1(X_test)\n",
    "        \n",
    "        test_loss=loss_fn(test_pred,Y_test)\n",
    "    \n",
    "    #printing results\n",
    "    if(epoch%10==0):\n",
    "        print(f\"Epoch: {epoch} |Loss :{loss} | Test loss:{test_loss}\")"
   ]
  },
  {
   "cell_type": "code",
   "execution_count": 12,
   "id": "1d6e55b8",
   "metadata": {},
   "outputs": [
    {
     "data": {
      "text/plain": [
       "OrderedDict([('linear_layer.weight', tensor([[0.6929]])),\n",
       "             ('linear_layer.bias', tensor([0.2925]))])"
      ]
     },
     "execution_count": 12,
     "metadata": {},
     "output_type": "execute_result"
    }
   ],
   "source": [
    "model_1.state_dict()"
   ]
  },
  {
   "cell_type": "markdown",
   "id": "ee5c8d0b",
   "metadata": {},
   "source": [
    "$4.Making And Evaluating Predictions$"
   ]
  },
  {
   "cell_type": "code",
   "execution_count": 13,
   "id": "bdcc1265",
   "metadata": {},
   "outputs": [
    {
     "data": {
      "text/plain": [
       "tensor([[0.8468],\n",
       "        [0.8607],\n",
       "        [0.8746],\n",
       "        [0.8884],\n",
       "        [0.9023],\n",
       "        [0.9161],\n",
       "        [0.9300],\n",
       "        [0.9438],\n",
       "        [0.9577],\n",
       "        [0.9716]])"
      ]
     },
     "execution_count": 13,
     "metadata": {},
     "output_type": "execute_result"
    }
   ],
   "source": [
    "model_1.eval()\n",
    "\n",
    "with torch.inference_mode():\n",
    "    y_preds=model_1(X_test)\n",
    "    \n",
    "y_preds"
   ]
  },
  {
   "cell_type": "code",
   "execution_count": 14,
   "id": "2b3e347c",
   "metadata": {},
   "outputs": [
    {
     "data": {
      "image/png": "[encoded data removed]",
      "text/plain": [
       "<Figure size 1000x700 with 1 Axes>"
      ]
     },
     "metadata": {},
     "output_type": "display_data"
    }
   ],
   "source": [
    "plot_predictions(predictions=y_preds)"
   ]
  },
  {
   "cell_type": "markdown",
   "id": "c5825411",
   "metadata": {},
   "source": [
    "$5. Saving and loading Model$"
   ]
  },
  {
   "cell_type": "code",
   "execution_count": null,
   "id": "8cbd506b",
   "metadata": {},
   "outputs": [
    {
     "name": "stdout",
     "output_type": "stream",
     "text": [
      "Saving model to models\\PytorchWorkFolowModel1.pth\n"
     ]
    }
   ],
   "source": [
    "#saving our model\n",
    "from pathlib import Path\n",
    "\n",
    "MODEL_PATH=Path(\"models\")\n",
    "MODEL_PATH.mkdir(parents=True, exist_ok =True)\n",
    "\n",
    "# Creating model save path\n",
    "MODEL_NAME= \"PytorchWorkFolowModel1.pth\"\n",
    "MODEL_SAVE_PATH=MODEL_PATH/MODEL_NAME\n",
    "\n",
    "# saving model state_dict\n",
    "print(f\"Saving model to {MODEL_SAVE_PATH}\")\n",
    "torch.save(obj=model_1.state_dict(),\n",
    "           f=MODEL_SAVE_PATH)"
   ]
  },
  {
   "cell_type": "code",
   "execution_count": 16,
   "id": "51267945",
   "metadata": {},
   "outputs": [
    {
     "data": {
      "text/plain": [
       "<All keys matched successfully>"
      ]
     },
     "execution_count": 16,
     "metadata": {},
     "output_type": "execute_result"
    }
   ],
   "source": [
    "#loading our model\n",
    "loaded_model_1=LinearRegressionModelV2()\n",
    "\n",
    "#loading the saved model_1 state_dict()\n",
    "\n",
    "loaded_model_1.load_state_dict(torch.load(MODEL_SAVE_PATH))\n",
    "\n"
   ]
  },
  {
   "cell_type": "code",
   "execution_count": 17,
   "id": "799ff05a",
   "metadata": {},
   "outputs": [
    {
     "data": {
      "text/plain": [
       "OrderedDict([('linear_layer.weight', tensor([[0.6929]])),\n",
       "             ('linear_layer.bias', tensor([0.2925]))])"
      ]
     },
     "execution_count": 17,
     "metadata": {},
     "output_type": "execute_result"
    }
   ],
   "source": [
    "loaded_model_1.state_dict()"
   ]
  },
  {
   "cell_type": "code",
   "execution_count": 18,
   "id": "8310196d",
   "metadata": {},
   "outputs": [
    {
     "data": {
      "text/plain": [
       "tensor([[True],\n",
       "        [True],\n",
       "        [True],\n",
       "        [True],\n",
       "        [True],\n",
       "        [True],\n",
       "        [True],\n",
       "        [True],\n",
       "        [True],\n",
       "        [True]])"
      ]
     },
     "execution_count": 18,
     "metadata": {},
     "output_type": "execute_result"
    }
   ],
   "source": [
    "#evaluating loaded model\n",
    "\n",
    "loaded_model_1.eval()\n",
    "with torch.inference_mode():\n",
    "    loaded_model_1_preds=loaded_model_1(X_test)\n",
    "    \n",
    "y_preds== loaded_model_1_preds"
   ]
  }
 ],
 "metadata": {
  "kernelspec": {
   "display_name": "Python 3",
   "language": "python",
   "name": "python3"
  },
  "language_info": {
   "codemirror_mode": {
    "name": "ipython",
    "version": 3
   },
   "file_extension": ".py",
   "mimetype": "text/x-python",
   "name": "python",
   "nbconvert_exporter": "python",
   "pygments_lexer": "ipython3",
   "version": "3.11.5"
  }
 },
 "nbformat": 4,
 "nbformat_minor": 5
}
