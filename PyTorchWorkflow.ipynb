{
 "cells": [
  {
   "cell_type": "code",
   "execution_count": 1,
   "id": "4a701c7f",
   "metadata": {},
   "outputs": [
    {
     "data": {
      "text/plain": [
       "'2.7.0+cpu'"
      ]
     },
     "execution_count": 1,
     "metadata": {},
     "output_type": "execute_result"
    }
   ],
   "source": [
    "import torch\n",
    "from torch import nn\n",
    "#nn has all of pytorch's building blocks for neural network\n",
    "import matplotlib.pyplot as plt\n",
    "\n",
    "#checking PyTorch version\n",
    "torch.__version__"
   ]
  },
  {
   "cell_type": "code",
   "execution_count": 2,
   "id": "687733bf",
   "metadata": {},
   "outputs": [
    {
     "data": {
      "text/plain": [
       "(tensor([[0.0000],\n",
       "         [0.0200],\n",
       "         [0.0400],\n",
       "         [0.0600],\n",
       "         [0.0800],\n",
       "         [0.1000],\n",
       "         [0.1200],\n",
       "         [0.1400],\n",
       "         [0.1600],\n",
       "         [0.1800]]),\n",
       " tensor([[0.3000],\n",
       "         [0.3140],\n",
       "         [0.3280],\n",
       "         [0.3420],\n",
       "         [0.3560],\n",
       "         [0.3700],\n",
       "         [0.3840],\n",
       "         [0.3980],\n",
       "         [0.4120],\n",
       "         [0.4260]]),\n",
       " 50,\n",
       " 50)"
      ]
     },
     "execution_count": 2,
     "metadata": {},
     "output_type": "execute_result"
    }
   ],
   "source": [
    "# We'll use linear regression formula using straight with known parameters\n",
    "weight=0.7\n",
    "bias=0.3\n",
    "\n",
    "start=0\n",
    "end=1\n",
    "step=0.02\n",
    "\n",
    "X=torch.arange(start,end,step).unsqueeze(dim=1)\n",
    "\n",
    "Y=weight*X+bias\n",
    "X[:10],Y[:10],len(X),len(Y)"
   ]
  },
  {
   "cell_type": "code",
   "execution_count": 3,
   "id": "3edb8a2b",
   "metadata": {},
   "outputs": [
    {
     "data": {
      "text/plain": [
       "(40, 40, 10, 10)"
      ]
     },
     "execution_count": 3,
     "metadata": {},
     "output_type": "execute_result"
    }
   ],
   "source": [
    "#creating train/test split\n",
    "train_split=int(0.8*len(X))\n",
    "X_train,Y_train=X[:train_split],Y[:train_split]\n",
    "X_test,Y_test=X[train_split:],Y[train_split:]\n",
    "len(X_train),len(Y_train),len(X_test),len(Y_test)"
   ]
  },
  {
   "cell_type": "code",
   "execution_count": 29,
   "id": "b386e5e4",
   "metadata": {},
   "outputs": [
    {
     "data": {
      "image/png": "[encoded data removed]",
      "text/plain": [
       "<Figure size 1000x700 with 1 Axes>"
      ]
     },
     "metadata": {},
     "output_type": "display_data"
    }
   ],
   "source": [
    "def plot_predictions(train_data=X_train,\n",
    "                     train_labels=Y_train,\n",
    "                     test_data=X_test,\n",
    "                     test_labels=Y_test,\n",
    "                     predictions=None):\n",
    "    \"\"\"\n",
    "    Plots training data, test data and compares predictions,\n",
    "    \"\"\"\n",
    "    \n",
    "    plt.figure(figsize=(10,7))\n",
    "    \n",
    "    #Plot training data in blue\n",
    "    plt.scatter(train_data,train_labels,c=\"b\",s=4, label=\"Training data\")\n",
    "    \n",
    "    #Plot test data in blue\n",
    "    plt.scatter(train_data,train_labels,c=\"g\",s=4, label=\"Testing data\")\n",
    "    \n",
    "    if predictions is not None:\n",
    "        #plot predictions if they appear\n",
    "        plt.scatter(test_data,predictions,c=\"r\",s=4,label=\"predictions\")\n",
    "    \n",
    "    #show the legends\n",
    "    plt.legend(prop={\"size\":14})\n",
    "    \n",
    "plot_predictions()"
   ]
  },
  {
   "cell_type": "code",
   "execution_count": 5,
   "id": "3d01f814",
   "metadata": {},
   "outputs": [],
   "source": [
    "# Building first pytorch model\n",
    "\n",
    "class LinearRegressionModel(nn.Module):\n",
    "    def __init__(self):\n",
    "        super().__init__()\n",
    "        self.weights=nn.Parameter(torch.randn(1,\n",
    "                                              requires_grad=True,\n",
    "                                              dtype=torch.float))\n",
    "        \n",
    "        self.bias=nn.Parameter(torch.randn(1,\n",
    "                                              requires_grad=True,\n",
    "                                              dtype=torch.float))\n",
    "        \n",
    "        #forward method to define the compution in model\n",
    "    def forward(self,x:torch.Tensor)->torch.Tensor:\n",
    "        return self.weights*x+self.bias #this is linear regression"
   ]
  },
  {
   "cell_type": "code",
   "execution_count": 6,
   "id": "70e1503e",
   "metadata": {},
   "outputs": [
    {
     "data": {
      "text/plain": [
       "[Parameter containing:\n",
       " tensor([0.3367], requires_grad=True),\n",
       " Parameter containing:\n",
       " tensor([0.1288], requires_grad=True)]"
      ]
     },
     "execution_count": 6,
     "metadata": {},
     "output_type": "execute_result"
    }
   ],
   "source": [
    "#Creating a random seed\n",
    "torch.manual_seed(42)\n",
    "\n",
    "#Creatinga n instance of a modle\n",
    "\n",
    "model_0=LinearRegressionModel()\n",
    "\n",
    "list(model_0.parameters())"
   ]
  },
  {
   "cell_type": "code",
   "execution_count": 7,
   "id": "41942653",
   "metadata": {},
   "outputs": [
    {
     "data": {
      "text/plain": [
       "tensor([[0.3982],\n",
       "        [0.4049],\n",
       "        [0.4116],\n",
       "        [0.4184],\n",
       "        [0.4251],\n",
       "        [0.4318],\n",
       "        [0.4386],\n",
       "        [0.4453],\n",
       "        [0.4520],\n",
       "        [0.4588]])"
      ]
     },
     "execution_count": 7,
     "metadata": {},
     "output_type": "execute_result"
    }
   ],
   "source": [
    "#Making predictions\n",
    "with torch.inference_mode():\n",
    "    y_preds=model_0(X_test)\n",
    "\n",
    "y_preds"
   ]
  },
  {
   "cell_type": "code",
   "execution_count": 8,
   "id": "444c98b3",
   "metadata": {},
   "outputs": [
    {
     "data": {
      "text/plain": [
       "OrderedDict([('weights', tensor([0.3367])), ('bias', tensor([0.1288]))])"
      ]
     },
     "execution_count": 8,
     "metadata": {},
     "output_type": "execute_result"
    }
   ],
   "source": [
    "model_0.state_dict()"
   ]
  },
  {
   "cell_type": "code",
   "execution_count": 9,
   "id": "82908c86",
   "metadata": {},
   "outputs": [
    {
     "data": {
      "image/png": "[encoded data removed]",
      "text/plain": [
       "<Figure size 1000x700 with 1 Axes>"
      ]
     },
     "metadata": {},
     "output_type": "display_data"
    }
   ],
   "source": [
    "plot_predictions(predictions=y_preds)"
   ]
  },
  {
   "cell_type": "code",
   "execution_count": 10,
   "id": "ede548d3",
   "metadata": {},
   "outputs": [],
   "source": [
    "#setting up loss function\n",
    "loss_fn=nn.L1Loss()\n",
    "\n",
    "#setting up optimizer(we'll use SGD for now)\n",
    "optimizer=torch.optim.SGD(params=model_0.parameters(),\n",
    "                          lr=0.01)#lr is learning rate"
   ]
  },
  {
   "cell_type": "code",
   "execution_count": 11,
   "id": "957950b0",
   "metadata": {},
   "outputs": [
    {
     "name": "stdout",
     "output_type": "stream",
     "text": [
      "Epoch: 0 |Loss :0.31288138031959534 | Test loss:0.48106518387794495\n",
      "Epoch: 10 |Loss :0.1976713240146637 | Test loss:0.3463551998138428\n",
      "Epoch: 20 |Loss :0.08908725529909134 | Test loss:0.21729660034179688\n",
      "Epoch: 30 |Loss :0.053148526698350906 | Test loss:0.14464017748832703\n",
      "Epoch: 40 |Loss :0.04543796554207802 | Test loss:0.11360953003168106\n",
      "Epoch: 50 |Loss :0.04167863354086876 | Test loss:0.09919948130846024\n",
      "Epoch: 60 |Loss :0.03818932920694351 | Test loss:0.08886633068323135\n",
      "Epoch: 70 |Loss :0.03476089984178543 | Test loss:0.0805937647819519\n",
      "Epoch: 80 |Loss :0.03132382780313492 | Test loss:0.07232122868299484\n",
      "Epoch: 90 |Loss :0.02788739837706089 | Test loss:0.06473556160926819\n",
      "Epoch: 100 |Loss :0.024458957836031914 | Test loss:0.05646304413676262\n",
      "Epoch: 110 |Loss :0.021020207554101944 | Test loss:0.04819049686193466\n",
      "Epoch: 120 |Loss :0.01758546568453312 | Test loss:0.04060482233762741\n",
      "Epoch: 130 |Loss :0.014155393466353416 | Test loss:0.03233227878808975\n",
      "Epoch: 140 |Loss :0.010716589167714119 | Test loss:0.024059748277068138\n",
      "Epoch: 150 |Loss :0.0072835334576666355 | Test loss:0.016474086791276932\n",
      "Epoch: 160 |Loss :0.0038517764769494534 | Test loss:0.008201557211577892\n",
      "Epoch: 170 |Loss :0.008932482451200485 | Test loss:0.005023092031478882\n",
      "Epoch: 180 |Loss :0.008932482451200485 | Test loss:0.005023092031478882\n",
      "Epoch: 190 |Loss :0.008932482451200485 | Test loss:0.005023092031478882\n"
     ]
    },
    {
     "data": {
      "text/plain": [
       "OrderedDict([('weights', tensor([0.6990])), ('bias', tensor([0.3093]))])"
      ]
     },
     "execution_count": 11,
     "metadata": {},
     "output_type": "execute_result"
    }
   ],
   "source": [
    "# building a training loop and testing loop in PyTorch\n",
    "\n",
    "#epoch is one loop through data\n",
    "epochs=200\n",
    "\n",
    "# track different values\n",
    "epoch_count=[]\n",
    "loss_values=[]\n",
    "test_loss_values=[]\n",
    "\n",
    "# step 0\n",
    "for epoch in range(epochs):\n",
    "    #set the model to training mode\n",
    "    model_0.train()\n",
    "    \n",
    "    # 1. forward pass\n",
    "    y_preds=model_0(X_train)\n",
    "    \n",
    "    # 2. calculation loss\n",
    "    loss=loss_fn(y_preds,Y_train)\n",
    "    # print(f\"loss : {loss}\")\n",
    "    \n",
    "    # 3. Optimizer zero grad\n",
    "    optimizer.zero_grad()\n",
    "    \n",
    "    # 4. Performing back propogation\n",
    "    loss.backward()\n",
    "    \n",
    "    # 5. Step the optimiser\n",
    "    optimizer.step() # tells the optimizer how the changes will accumulate through the loop so we have to zero them in step 3\n",
    "    \n",
    "    #testing\n",
    "    model_0.eval() #turns off different dettings inmodel not needed for evaluation/testing\n",
    "    with torch.inference_mode(): #Turns off gradient tracking and some more things behind the scene\n",
    "        # 1. do forward \n",
    "        test_preds=model_0(X_test)\n",
    "        \n",
    "        # 2. calculate the loss\n",
    "        test_loss = loss_fn(test_preds,Y_test)\n",
    "        \n",
    "        #3. print whats happening\n",
    "        if(epoch%10==0):\n",
    "            epoch_count.append(epoch)\n",
    "            loss_values.append(loss)\n",
    "            test_loss_values.append(test_loss)\n",
    "            print(f\"Epoch: {epoch} |Loss :{loss} | Test loss:{test_loss}\")\n",
    "        \n",
    "model_0.state_dict()"
   ]
  },
  {
   "cell_type": "code",
   "execution_count": 12,
   "id": "2335e830",
   "metadata": {},
   "outputs": [
    {
     "data": {
      "text/plain": [
       "<matplotlib.legend.Legend at 0x2317a2dbed0>"
      ]
     },
     "execution_count": 12,
     "metadata": {},
     "output_type": "execute_result"
    },
    {
     "data": {
      "image/png": "[encoded data removed]",
      "text/plain": [
       "<Figure size 640x480 with 1 Axes>"
      ]
     },
     "metadata": {},
     "output_type": "display_data"
    }
   ],
   "source": [
    "# ploting loss curver\n",
    "import numpy as np\n",
    "\n",
    "plt.plot(epoch_count,torch.tensor(loss_values).cpu().numpy(), label=\"Train loss\")\n",
    "plt.plot(epoch_count,test_loss_values, label=\"Test loss\")\n",
    "plt.title(\"Training and test loss curves\")\n",
    "plt.ylabel(\"Loss\")\n",
    "plt.xlabel(\"Epochs\")\n",
    "plt.legend()"
   ]
  },
  {
   "cell_type": "code",
   "execution_count": 13,
   "id": "50438b1b",
   "metadata": {},
   "outputs": [],
   "source": [
    "with torch.inference_mode():\n",
    "    y_pred_new=model_0(X_test)"
   ]
  },
  {
   "cell_type": "code",
   "execution_count": 14,
   "id": "57d5d38b",
   "metadata": {},
   "outputs": [
    {
     "data": {
      "image/png": "[encoded data removed]",
      "text/plain": [
       "<Figure size 1000x700 with 1 Axes>"
      ]
     },
     "metadata": {},
     "output_type": "display_data"
    }
   ],
   "source": [
    "plot_predictions(predictions=y_pred_new)"
   ]
  },
  {
   "cell_type": "code",
   "execution_count": 16,
   "id": "b2c9fe55",
   "metadata": {},
   "outputs": [
    {
     "name": "stdout",
     "output_type": "stream",
     "text": [
      "Saving model to models\\PytorchWorkFolowModel0.pth\n"
     ]
    }
   ],
   "source": [
    "#Saving and loading PyTorch Model\n",
    "\n",
    "from pathlib import Path\n",
    "#1. create models directory\n",
    "MODEL_PATH=Path(\"models\")\n",
    "MODEL_PATH.mkdir(parents=True,exist_ok=True)\n",
    "\n",
    "#2. Create model save path\n",
    "MODEL_NAME=\"PytorchWorkFolowModel0.pth\"\n",
    "MODEL_SAVE_PATH=MODEL_PATH/MODEL_NAME\n",
    "\n",
    "MODEL_SAVE_PATH\n",
    "\n",
    "\n",
    "#3 save model's state_dict\n",
    "print(f\"Saving model to {MODEL_SAVE_PATH}\")\n",
    "torch.save(obj=model_0.state_dict(),\n",
    "           f=MODEL_SAVE_PATH)\n"
   ]
  },
  {
   "cell_type": "code",
   "execution_count": 17,
   "id": "bc2a6c03",
   "metadata": {},
   "outputs": [
    {
     "name": "stdout",
     "output_type": "stream",
     "text": [
      "total 4\n",
      "-rw-r--r-- 1 akhil 197609 2077 Jun 13 16:52 PytorchWorkFolowModel0.pth\n"
     ]
    }
   ],
   "source": [
    "!ls -l models/"
   ]
  },
  {
   "cell_type": "code",
   "execution_count": 21,
   "id": "7a627f1d",
   "metadata": {},
   "outputs": [
    {
     "data": {
      "text/plain": [
       "<All keys matched successfully>"
      ]
     },
     "execution_count": 21,
     "metadata": {},
     "output_type": "execute_result"
    }
   ],
   "source": [
    "#loading the saved state_dict we have to instiate a new instance of our model class\n",
    "loaded_model_0 = LinearRegressionModel()\n",
    "\n",
    "\n",
    "#load the state dict of model_0\n",
    "loaded_model_0.load_state_dict(torch.load(f=MODEL_SAVE_PATH))"
   ]
  },
  {
   "cell_type": "code",
   "execution_count": 22,
   "id": "531639b7",
   "metadata": {},
   "outputs": [
    {
     "data": {
      "text/plain": [
       "OrderedDict([('weights', tensor([0.6990])), ('bias', tensor([0.3093]))])"
      ]
     },
     "execution_count": 22,
     "metadata": {},
     "output_type": "execute_result"
    }
   ],
   "source": [
    "loaded_model_0.state_dict()"
   ]
  },
  {
   "cell_type": "code",
   "execution_count": 23,
   "id": "3c0536f6",
   "metadata": {},
   "outputs": [
    {
     "data": {
      "text/plain": [
       "tensor([[0.8685],\n",
       "        [0.8825],\n",
       "        [0.8965],\n",
       "        [0.9105],\n",
       "        [0.9245],\n",
       "        [0.9384],\n",
       "        [0.9524],\n",
       "        [0.9664],\n",
       "        [0.9804],\n",
       "        [0.9944]])"
      ]
     },
     "execution_count": 23,
     "metadata": {},
     "output_type": "execute_result"
    }
   ],
   "source": [
    "#making some predictions with our loaded model\n",
    "loaded_model_0.eval()\n",
    "with torch.inference_mode():\n",
    "    loaded_model_preds=loaded_model_0(X_test)\n",
    "    \n",
    "loaded_model_preds"
   ]
  },
  {
   "cell_type": "code",
   "execution_count": 27,
   "id": "fb21a98b",
   "metadata": {},
   "outputs": [
    {
     "data": {
      "text/plain": [
       "tensor([[0.8685],\n",
       "        [0.8825],\n",
       "        [0.8965],\n",
       "        [0.9105],\n",
       "        [0.9245],\n",
       "        [0.9384],\n",
       "        [0.9524],\n",
       "        [0.9664],\n",
       "        [0.9804],\n",
       "        [0.9944]])"
      ]
     },
     "execution_count": 27,
     "metadata": {},
     "output_type": "execute_result"
    }
   ],
   "source": [
    "model_0.eval()\n",
    "with torch.inference_mode():\n",
    "    y_preds=model_0(X_test)\n",
    "    \n",
    "y_preds"
   ]
  },
  {
   "cell_type": "code",
   "execution_count": 28,
   "id": "062b1626",
   "metadata": {},
   "outputs": [
    {
     "data": {
      "text/plain": [
       "tensor([[True],\n",
       "        [True],\n",
       "        [True],\n",
       "        [True],\n",
       "        [True],\n",
       "        [True],\n",
       "        [True],\n",
       "        [True],\n",
       "        [True],\n",
       "        [True]])"
      ]
     },
     "execution_count": 28,
     "metadata": {},
     "output_type": "execute_result"
    }
   ],
   "source": [
    "#comparing  predictions form old model to newely saved model.\n",
    "y_preds== loaded_model_preds"
   ]
  }
 ],
 "metadata": {
  "kernelspec": {
   "display_name": "Python 3",
   "language": "python",
   "name": "python3"
  },
  "language_info": {
   "codemirror_mode": {
    "name": "ipython",
    "version": 3
   },
   "file_extension": ".py",
   "mimetype": "text/x-python",
   "name": "python",
   "nbconvert_exporter": "python",
   "pygments_lexer": "ipython3",
   "version": "3.11.5"
  }
 },
 "nbformat": 4,
 "nbformat_minor": 5
}
