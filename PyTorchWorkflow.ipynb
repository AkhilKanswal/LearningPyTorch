{
 "cells": [
  {
   "cell_type": "code",
   "execution_count": 1,
   "id": "4a701c7f",
   "metadata": {},
   "outputs": [
    {
     "data": {
      "text/plain": [
       "'2.7.0+cpu'"
      ]
     },
     "execution_count": 1,
     "metadata": {},
     "output_type": "execute_result"
    }
   ],
   "source": [
    "import torch\n",
    "from torch import nn\n",
    "#nn has all of pytorch's building blocks for neural network\n",
    "import matplotlib.pyplot as plt\n",
    "\n",
    "#checking PyTorch version\n",
    "torch.__version__"
   ]
  },
  {
   "cell_type": "code",
   "execution_count": 2,
   "id": "687733bf",
   "metadata": {},
   "outputs": [
    {
     "data": {
      "text/plain": [
       "(tensor([[0.0000],\n",
       "         [0.0200],\n",
       "         [0.0400],\n",
       "         [0.0600],\n",
       "         [0.0800],\n",
       "         [0.1000],\n",
       "         [0.1200],\n",
       "         [0.1400],\n",
       "         [0.1600],\n",
       "         [0.1800]]),\n",
       " tensor([[0.3000],\n",
       "         [0.3140],\n",
       "         [0.3280],\n",
       "         [0.3420],\n",
       "         [0.3560],\n",
       "         [0.3700],\n",
       "         [0.3840],\n",
       "         [0.3980],\n",
       "         [0.4120],\n",
       "         [0.4260]]),\n",
       " 50,\n",
       " 50)"
      ]
     },
     "execution_count": 2,
     "metadata": {},
     "output_type": "execute_result"
    }
   ],
   "source": [
    "# We'll use linear regression formula using straight with known parameters\n",
    "weight=0.7\n",
    "bias=0.3\n",
    "\n",
    "start=0\n",
    "end=1\n",
    "step=0.02\n",
    "\n",
    "X=torch.arange(start,end,step).unsqueeze(dim=1)\n",
    "\n",
    "Y=weight*X+bias\n",
    "X[:10],Y[:10],len(X),len(Y)"
   ]
  },
  {
   "cell_type": "code",
   "execution_count": 3,
   "id": "3edb8a2b",
   "metadata": {},
   "outputs": [
    {
     "data": {
      "text/plain": [
       "(40, 40, 10, 10)"
      ]
     },
     "execution_count": 3,
     "metadata": {},
     "output_type": "execute_result"
    }
   ],
   "source": [
    "#creating train/test split\n",
    "train_split=int(0.8*len(X))\n",
    "X_train,Y_train=X[:train_split],Y[:train_split]\n",
    "X_test,Y_test=X[train_split:],Y[train_split:]\n",
    "len(X_train),len(Y_train),len(X_test),len(Y_test)"
   ]
  },
  {
   "cell_type": "code",
   "execution_count": 4,
   "id": "b386e5e4",
   "metadata": {},
   "outputs": [
    {
     "data": {
      "image/png": "[encoded data removed]",
      "text/plain": [
       "<Figure size 1000x700 with 1 Axes>"
      ]
     },
     "metadata": {},
     "output_type": "display_data"
    }
   ],
   "source": [
    "def plot_predictions(train_data=X_train,\n",
    "                     train_labels=Y_train,\n",
    "                     test_data=X_test,\n",
    "                     test_labels=Y_test,\n",
    "                     predictions=None):\n",
    "    \"\"\"\n",
    "    Plots training data, test data and compares predictions,\n",
    "    \"\"\"\n",
    "    \n",
    "    plt.figure(figsize=(10,7))\n",
    "    \n",
    "    #Plot training data in blue\n",
    "    plt.scatter(train_data,train_labels,c=\"b\",s=4, label=\"Training data\")\n",
    "    \n",
    "    #Plot test data in blue\n",
    "    plt.scatter(train_data,train_labels,c=\"g\",s=4, label=\"Testing data\")\n",
    "    \n",
    "    if predictions is not None:\n",
    "        #plot predictions if they appear\n",
    "        plt.scatter(test_data,predictions,c=\"r\",s=4,label=\"predictions\")\n",
    "    \n",
    "    #show the legends\n",
    "    plt.legend(prop={\"size\":14})\n",
    "    \n",
    "plot_predictions()"
   ]
  },
  {
   "cell_type": "code",
   "execution_count": 5,
   "id": "3d01f814",
   "metadata": {},
   "outputs": [],
   "source": [
    "# Building first pytorch model\n",
    "\n",
    "class LinearRegressionModel(nn.Module):\n",
    "    def __init__(self):\n",
    "        super().__init__()\n",
    "        self.weights=nn.Parameter(torch.randn(1,\n",
    "                                              requires_grad=True,\n",
    "                                              dtype=torch.float))\n",
    "        \n",
    "        self.bias=nn.Parameter(torch.randn(1,\n",
    "                                              requires_grad=True,\n",
    "                                              dtype=torch.float))\n",
    "        \n",
    "        #forward method to define the compution in model\n",
    "    def forward(self,x:torch.Tensor)->torch.Tensor:\n",
    "        return self.weights*x+self.bias #this is linear regression"
   ]
  },
  {
   "cell_type": "code",
   "execution_count": 6,
   "id": "70e1503e",
   "metadata": {},
   "outputs": [
    {
     "data": {
      "text/plain": [
       "[Parameter containing:\n",
       " tensor([0.3367], requires_grad=True),\n",
       " Parameter containing:\n",
       " tensor([0.1288], requires_grad=True)]"
      ]
     },
     "execution_count": 6,
     "metadata": {},
     "output_type": "execute_result"
    }
   ],
   "source": [
    "#Creating a random seed\n",
    "torch.manual_seed(42)\n",
    "\n",
    "#Creatinga n instance of a modle\n",
    "\n",
    "model_0=LinearRegressionModel()\n",
    "\n",
    "list(model_0.parameters())"
   ]
  },
  {
   "cell_type": "code",
   "execution_count": 8,
   "id": "41942653",
   "metadata": {},
   "outputs": [
    {
     "data": {
      "text/plain": [
       "tensor([[0.3982],\n",
       "        [0.4049],\n",
       "        [0.4116],\n",
       "        [0.4184],\n",
       "        [0.4251],\n",
       "        [0.4318],\n",
       "        [0.4386],\n",
       "        [0.4453],\n",
       "        [0.4520],\n",
       "        [0.4588]])"
      ]
     },
     "execution_count": 8,
     "metadata": {},
     "output_type": "execute_result"
    }
   ],
   "source": [
    "#Making predictions\n",
    "with torch.inference_mode():\n",
    "    y_preds=model_0(X_test)\n",
    "\n",
    "y_preds"
   ]
  },
  {
   "cell_type": "code",
   "execution_count": 7,
   "id": "444c98b3",
   "metadata": {},
   "outputs": [
    {
     "data": {
      "text/plain": [
       "OrderedDict([('weights', tensor([0.3367])), ('bias', tensor([0.1288]))])"
      ]
     },
     "execution_count": 7,
     "metadata": {},
     "output_type": "execute_result"
    }
   ],
   "source": [
    "model_0.state_dict()"
   ]
  },
  {
   "cell_type": "code",
   "execution_count": 9,
   "id": "82908c86",
   "metadata": {},
   "outputs": [
    {
     "data": {
      "image/png": "[encoded data removed]",
      "text/plain": [
       "<Figure size 1000x700 with 1 Axes>"
      ]
     },
     "metadata": {},
     "output_type": "display_data"
    }
   ],
   "source": [
    "plot_predictions(predictions=y_preds)"
   ]
  },
  {
   "cell_type": "code",
   "execution_count": 10,
   "id": "ede548d3",
   "metadata": {},
   "outputs": [],
   "source": [
    "#setting up loss function\n",
    "loss_fn=nn.L1Loss()\n",
    "\n",
    "#setting up optimizer(we'll use SGD for now)\n",
    "optimizer=torch.optim.SGD(params=model_0.parameters(),\n",
    "                          lr=0.01)#lr is learning rate"
   ]
  },
  {
   "cell_type": "code",
   "execution_count": null,
   "id": "957950b0",
   "metadata": {},
   "outputs": [],
   "source": [
    "# building a training loop and testing loop in PyTorch\n",
    "\n",
    "#epoch is one loop through data\n",
    "epochs=1\n",
    "\n",
    "# step 0\n",
    "for epoch in range(epochs):\n",
    "    #set the model to training mode\n",
    "    model_0.train()\n",
    "    \n",
    "    # 1. forward pass\n",
    "    y_preds=model_0(X_train)\n",
    "    \n",
    "    # 2. calculation loss\n",
    "    loss=loss_fn(y_preds,Y_train)\n",
    "    \n",
    "    \n",
    "    # 3. Optimizer zero grad\n",
    "    optimizer.zero_grad()\n",
    "    \n",
    "    # 4. Performing back propogation\n",
    "    loss.backward()\n",
    "    \n",
    "    # 5. Step the optimiser\n",
    "    optimizer.step() # tells the optimizer how the changes will accumulate through the loop so we have to zero them in step 3\n",
    "    \n",
    "    \n",
    "    model_0.eval\n",
    "    "
   ]
  }
 ],
 "metadata": {
  "kernelspec": {
   "display_name": "Python 3",
   "language": "python",
   "name": "python3"
  },
  "language_info": {
   "codemirror_mode": {
    "name": "ipython",
    "version": 3
   },
   "file_extension": ".py",
   "mimetype": "text/x-python",
   "name": "python",
   "nbconvert_exporter": "python",
   "pygments_lexer": "ipython3",
   "version": "3.11.5"
  }
 },
 "nbformat": 4,
 "nbformat_minor": 5
}
